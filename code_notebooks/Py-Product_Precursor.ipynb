{
 "cells": [
  {
   "cell_type": "code",
   "execution_count": 1,
   "metadata": {},
   "outputs": [],
   "source": [
    "import numpy as np\n",
    "import pandas as pd\n",
    "import seaborn as sns\n",
    "import matplotlib as plt\n",
    "\n",
    "plt.rcParams['svg.fonttype'] = 'none'\n",
    "\n",
    "import fractionalcontribution as fc"
   ]
  },
  {
   "cell_type": "code",
   "execution_count": 2,
   "metadata": {},
   "outputs": [],
   "source": [
    "plasmadata = \"/Users/brooksleitner/Desktop/Python/sepsismetabolism/data/flux/sepsis_fluxomics/Plasma_summary.xlsx\"\n",
    "tissuedata = \"/Users/brooksleitner/Desktop/Python/sepsismetabolism/data/flux/sepsis_fluxomics/Tissue_summary.xlsx\"\n",
    "\n",
    "plasmapoolsize = pd.read_excel(plasmadata, sheet_name=3, header=0)\n",
    "plasmanormalizedlabeling = pd.read_excel(plasmadata, sheet_name=2, header=0)\n",
    "\n",
    "tissuepoolsize = pd.read_excel(tissuedata, sheet_name=3, header=0)\n",
    "tissuenormalizedlabeling = pd.read_excel(tissuedata, sheet_name=2, header=0)"
   ]
  },
  {
   "cell_type": "code",
   "execution_count": 3,
   "metadata": {},
   "outputs": [],
   "source": [
    "#Create dataframe with only 13C and no 2H for certain compounds\n",
    "\n",
    "plasmanormalizedlabeling['combined_label'] = \"13C_\" + plasmanormalizedlabeling['13C#'].astype(str) + \"_2H_\" + plasmanormalizedlabeling['2H#'].astype(str)\n",
    "\n",
    "tissuenormalizedlabeling['combined_label'] = \"13C_\" + tissuenormalizedlabeling['13C#'].astype(str) + \"_2H_\" + tissuenormalizedlabeling['2H#'].astype(str)"
   ]
  },
  {
   "cell_type": "markdown",
   "metadata": {},
   "source": [
    "We will create 14 product-precursor relationships from 22 isotopologues of 11 distinct metabolites\n",
    "\n",
    "Format of the equations below is:\n",
    "FC_Precursor-Product: Product / Precursor\n",
    "\n",
    "Akg-Glu: Glutamate_m3 / Alpha-Ketoglutarate_m3\n",
    "\n",
    "Akg-Succ: (Succinate_m4 + Succinate_m2) / (Alpha-Ketoglutarate_m5 + Alpha-Ketoglutarate_m3)\n",
    "\n",
    "Gln-Glu: Glutamate_m5 / Glutamine_m5\n",
    "\n",
    "Gln-GSH: GSH_m5 / Glutamine_m5\n",
    "\n",
    "Glu-Akg: (Alpha-Ketoglutarate_m5 + Alpha-Ketoglutarate_m3) / (Glutamate_m5 + Glutamate_m3)\n",
    "\n",
    "Glu-Gln: Glutamine_m3 / Glutamate_m3\n",
    "\n",
    "Glu-GSH: GSH_m5 / Glutamate_m5\n",
    "\n",
    "MaOAA-Asp: (Aspartate_m4 + Aspartate_m2) / (Malate/OAA_m4 + Malate/OAA_m2)\n",
    "\n",
    "MaOAA-Cit: (Citrate_m4 + Citrate_m2 + Citrate_m3) / (Malate/OAA_m4 + Malate/OAA_m2 + Malate/OAA_m3)\n",
    "\n",
    "MaOAA-Pyr: (Pyruvate_m3 + Pyruvate_m2) / (Malate/OAA_m4 + Malate/OAA_m2)\n",
    "\n",
    "Pyr-Ala: (Alanine_m3 + Alanine_m2) / (Pyruvate_m3 + Pyruvate_m2)\n",
    "\n",
    "Pyr-Lac: (Lactate_m3 + Lactate_m2) / (Pyruvate_m3 + Pyruvate_m2)\n",
    "\n",
    "Pyr-MaOAA: Malate/OAA_m3 / Pyruvate_m3\n",
    "\n",
    "Succ-Mal: (Malate_m4 + Malate_m2) / (Succinate_m4 + Succinate_m2)"
   ]
  },
  {
   "cell_type": "code",
   "execution_count": 4,
   "metadata": {},
   "outputs": [],
   "source": [
    "glutamine_normalized_tissue = tissuenormalizedlabeling[tissuenormalizedlabeling['Compound'] == 'glutamine']\n",
    "\n",
    "glutamine_13C5_H0 = glutamine_normalized_tissue[glutamine_normalized_tissue['combined_label'] == '13C_5_2H_0']\n",
    "glutamine_13C3_H0 = glutamine_normalized_tissue[glutamine_normalized_tissue['combined_label'] == '13C_3_2H_0']"
   ]
  },
  {
   "cell_type": "code",
   "execution_count": 5,
   "metadata": {},
   "outputs": [],
   "source": [
    "glutamate_normalized_tissue = tissuenormalizedlabeling[tissuenormalizedlabeling['Compound'] == 'glutamate']\n",
    "\n",
    "glutamate_13C5_H0 = glutamate_normalized_tissue[glutamate_normalized_tissue['combined_label'] == '13C_5_2H_0']\n",
    "glutamate_13C3_H0 = glutamate_normalized_tissue[glutamate_normalized_tissue['combined_label'] == '13C_3_2H_0']"
   ]
  },
  {
   "cell_type": "code",
   "execution_count": 6,
   "metadata": {},
   "outputs": [],
   "source": [
    "a_ketoglutarate_normalized_tissue = tissuenormalizedlabeling[tissuenormalizedlabeling['Compound'] == 'a-ketoglutarate']\n",
    "\n",
    "a_ketoglutarate_13C5_H0 = a_ketoglutarate_normalized_tissue[a_ketoglutarate_normalized_tissue['combined_label'] == '13C_5_2H_0']\n",
    "a_ketoglutarate_13C3_H0 = a_ketoglutarate_normalized_tissue[a_ketoglutarate_normalized_tissue['combined_label'] == '13C_3_2H_0']\n"
   ]
  },
  {
   "cell_type": "code",
   "execution_count": 7,
   "metadata": {},
   "outputs": [],
   "source": [
    "succinate_normalized_tissue = tissuenormalizedlabeling[tissuenormalizedlabeling['Compound'] == 'succinate']\n",
    "\n",
    "succinate_13C4_H0 = succinate_normalized_tissue[succinate_normalized_tissue['combined_label'] == '13C_4_2H_0']\n",
    "succinate_13C2_H0 = succinate_normalized_tissue[succinate_normalized_tissue['combined_label'] == '13C_2_2H_0']"
   ]
  },
  {
   "cell_type": "code",
   "execution_count": 8,
   "metadata": {},
   "outputs": [],
   "source": [
    "glutathione_normalized_tissue = tissuenormalizedlabeling[tissuenormalizedlabeling['Compound'] == 'GSH (reduced glutathione)-NEM']\n",
    "\n",
    "glutathione_13C5_H0 = glutathione_normalized_tissue[glutathione_normalized_tissue['combined_label'] == '13C_5_2H_0']"
   ]
  },
  {
   "cell_type": "code",
   "execution_count": 9,
   "metadata": {},
   "outputs": [],
   "source": [
    "malate_normalized_tissue = tissuenormalizedlabeling[tissuenormalizedlabeling['Compound'] == 'malate']\n",
    "\n",
    "malate_13C4_H0 = malate_normalized_tissue[malate_normalized_tissue['combined_label'] == '13C_4_2H_0']\n",
    "malate_13C3_H0 = malate_normalized_tissue[malate_normalized_tissue['combined_label'] == '13C_3_2H_0']\n",
    "malate_13C2_H0 = malate_normalized_tissue[malate_normalized_tissue['combined_label'] == '13C_2_2H_0']"
   ]
  },
  {
   "cell_type": "code",
   "execution_count": 10,
   "metadata": {},
   "outputs": [],
   "source": [
    "citrate_normalized_tissue = tissuenormalizedlabeling[tissuenormalizedlabeling['Compound'] == 'citrate/isocitrate']\n",
    "\n",
    "citrate_13C4_H0 = citrate_normalized_tissue[citrate_normalized_tissue['combined_label'] == '13C_4_2H_0']\n",
    "citrate_13C2_H0 = citrate_normalized_tissue[citrate_normalized_tissue['combined_label'] == '13C_2_2H_0']"
   ]
  },
  {
   "cell_type": "code",
   "execution_count": 11,
   "metadata": {},
   "outputs": [],
   "source": [
    "aspartate_normalized_tissue = tissuenormalizedlabeling[tissuenormalizedlabeling['Compound'] == 'aspartate']\n",
    "\n",
    "aspartate_13C4_H0 = aspartate_normalized_tissue[aspartate_normalized_tissue['combined_label'] == '13C_4_2H_0']\n",
    "aspartate_13C2_H0 = aspartate_normalized_tissue[aspartate_normalized_tissue['combined_label'] == '13C_2_2H_0']"
   ]
  },
  {
   "cell_type": "code",
   "execution_count": 12,
   "metadata": {},
   "outputs": [],
   "source": [
    "alanine_normalized_tissue = tissuenormalizedlabeling[tissuenormalizedlabeling['Compound'] == 'alanine']\n",
    "\n",
    "alanine_13C3_H0 = alanine_normalized_tissue[alanine_normalized_tissue['combined_label'] == '13C_3_2H_0']\n",
    "alanine_13C2_H0 = alanine_normalized_tissue[alanine_normalized_tissue['combined_label'] == '13C_2_2H_0']"
   ]
  },
  {
   "cell_type": "code",
   "execution_count": 13,
   "metadata": {},
   "outputs": [],
   "source": [
    "lactate_normalized_tissue = tissuenormalizedlabeling[tissuenormalizedlabeling['Compound'] == 'lactate']\n",
    "\n",
    "lactate_13C3_H0 = lactate_normalized_tissue[lactate_normalized_tissue['combined_label'] == '13C_3_2H_0']\n",
    "lactate_13C2_H0 = lactate_normalized_tissue[lactate_normalized_tissue['combined_label'] == '13C_2_2H_0']"
   ]
  },
  {
   "cell_type": "code",
   "execution_count": 14,
   "metadata": {},
   "outputs": [],
   "source": [
    "pyruvate_normalized_tissue = tissuenormalizedlabeling[tissuenormalizedlabeling['Compound'] == 'pyruvate']\n",
    "\n",
    "pyruvate_13C3_H0 = pyruvate_normalized_tissue[pyruvate_normalized_tissue['combined_label'] == '13C_3_2H_0']\n",
    "pyruvate_13C2_H0 = pyruvate_normalized_tissue[pyruvate_normalized_tissue['combined_label'] == '13C_2_2H_0']"
   ]
  },
  {
   "cell_type": "code",
   "execution_count": 15,
   "metadata": {},
   "outputs": [],
   "source": [
    "targeted_isotopologues = pd.concat([glutamine_13C5_H0, glutamine_13C3_H0, glutamate_13C5_H0, glutamate_13C3_H0, a_ketoglutarate_13C5_H0, a_ketoglutarate_13C3_H0, succinate_13C4_H0, succinate_13C2_H0, glutathione_13C5_H0, malate_13C4_H0, malate_13C3_H0, malate_13C2_H0, citrate_13C4_H0, citrate_13C2_H0, aspartate_13C4_H0, aspartate_13C2_H0, alanine_13C3_H0, alanine_13C2_H0, lactate_13C3_H0, lactate_13C2_H0, pyruvate_13C3_H0, pyruvate_13C2_H0])"
   ]
  },
  {
   "cell_type": "code",
   "execution_count": 16,
   "metadata": {},
   "outputs": [],
   "source": [
    "#Initialize a summary dataframe\n",
    "\n",
    "fractional_contribution_summary_df = pd.DataFrame({'Mouse': [1, 2, 3, 4, 5, 6, 8, 9, 10, 11, 12, 13, 14, 16], 'Condition': ['Sepsis', 'Sham', 'Sepsis', 'Sham', 'Sepsis', 'Sham', 'Sham', 'Sepsis', 'Sham', 'Sepsis', 'Sham', 'Sepsis', 'Sham', 'Sham']})"
   ]
  },
  {
   "cell_type": "code",
   "execution_count": 17,
   "metadata": {},
   "outputs": [],
   "source": [
    "eWAT = ['1_eWAT', '2_eWAT', '3_eWAT', '4_eWAT', '5_eWAT', '6_eWAT', '8_eWAT', '9_eWAT', '10_eWAT', '11_eWAT', '12_eWAT', '13_eWAT', '14_eWAT', '16_eWAT']\n",
    "\n",
    "eWAT_targeted_isotopologues = targeted_isotopologues[['Compound'] + ['combined_label'] + [subject for subject in targeted_isotopologues.columns if subject in eWAT]]"
   ]
  },
  {
   "cell_type": "code",
   "execution_count": 18,
   "metadata": {},
   "outputs": [],
   "source": [
    "Heart = ['1_Heart', '2_Heart', '3_Heart', '4_Heart', '5_Heart', '6_Heart', '8_Heart', '9_Heart', '10_Heart', '11_Heart', '12_Heart', '13_Heart', '14_Heart', '16_Heart']\n",
    "\n",
    "Heart_targeted_isotopologues = targeted_isotopologues[['Compound'] + ['combined_label'] + [subject for subject in targeted_isotopologues.columns if subject in Heart]]"
   ]
  },
  {
   "cell_type": "code",
   "execution_count": 19,
   "metadata": {},
   "outputs": [],
   "source": [
    "Kidney = ['1_Kidney', '2_Kidney', '3_Kidney', '4_Kidney', '5_Kidney', '6_Kidney', '8_Kidney', '9_Kidney', '10_Kidney', '11_Kidney', '12_Kidney', '13_Kidney', '14_Kidney', '16_Kidney']\n",
    "\n",
    "Kidney_targeted_isotopologues = targeted_isotopologues[['Compound'] + ['combined_label'] + [subject for subject in targeted_isotopologues.columns if subject in Kidney]]"
   ]
  },
  {
   "cell_type": "code",
   "execution_count": 20,
   "metadata": {},
   "outputs": [],
   "source": [
    "Liver = ['1_Liver', '2_Liver', '3_Liver', '4_Liver', '5_Liver', '6_Liver', '8_Liver', '9_Liver', '10_Liver', '11_Liver', '12_Liver', '13_Liver', '14_Liver', '16_Liver']\n",
    "\n",
    "Liver_targeted_isotopologues = targeted_isotopologues[['Compound'] + ['combined_label'] + [subject for subject in targeted_isotopologues.columns if subject in Liver]]"
   ]
  },
  {
   "cell_type": "code",
   "execution_count": 21,
   "metadata": {},
   "outputs": [],
   "source": [
    "Lung = ['1_Lung', '2_Lung', '3_Lung', '4_Lung', '5_Lung', '6_Lung', '8_Lung', '9_Lung', '10_Lung', '11_Lung', '12_Lung', '13_Lung', '14_Lung', '16_Lung']\n",
    "\n",
    "Lung_targeted_isotopologues = targeted_isotopologues[['Compound'] + ['combined_label'] + [subject for subject in targeted_isotopologues.columns if subject in Lung]]"
   ]
  },
  {
   "cell_type": "code",
   "execution_count": 22,
   "metadata": {},
   "outputs": [],
   "source": [
    "Quad = ['1_Quad', '2_Quad', '3_Quad', '4_Quad', '5_Quad', '6_Quad', '8_Quad', '9_Quad', '10_Quad', '11_Quad', '12_Quad', '13_Quad', '14_Quad', '16_Quad']\n",
    "\n",
    "Quad_targeted_isotopologues = targeted_isotopologues[['Compound'] + ['combined_label'] + [subject for subject in targeted_isotopologues.columns if subject in Quad]]"
   ]
  },
  {
   "cell_type": "code",
   "execution_count": 23,
   "metadata": {},
   "outputs": [],
   "source": [
    "Spleen = ['1_Spleen', '2_Spleen', '3_Spleen', '4_Spleen', '5_Spleen', '6_Spleen', '8_Spleen', '9_Spleen', '10_Spleen', '11_Spleen', '12_Spleen', '13_Spleen', '14_Spleen', '16_Spleen']\n",
    "\n",
    "Spleen_targeted_isotopologues = targeted_isotopologues[['Compound'] + ['combined_label'] + [subject for subject in targeted_isotopologues.columns if subject in Spleen]]"
   ]
  },
  {
   "cell_type": "code",
   "execution_count": 24,
   "metadata": {},
   "outputs": [
    {
     "name": "stderr",
     "output_type": "stream",
     "text": [
      "/var/folders/63/kvjwtxbn1hqfmqdmm3m1gg0r0000gn/T/ipykernel_76316/1095152842.py:1: SettingWithCopyWarning: \n",
      "A value is trying to be set on a copy of a slice from a DataFrame.\n",
      "Try using .loc[row_indexer,col_indexer] = value instead\n",
      "\n",
      "See the caveats in the documentation: https://pandas.pydata.org/pandas-docs/stable/user_guide/indexing.html#returning-a-view-versus-a-copy\n",
      "  eWAT_targeted_isotopologues['eWAT_Compound'] = 'eWAT_' + eWAT_targeted_isotopologues['Compound'] + '_' + eWAT_targeted_isotopologues['combined_label']\n"
     ]
    }
   ],
   "source": [
    "eWAT_targeted_isotopologues['eWAT_Compound'] = 'eWAT_' + eWAT_targeted_isotopologues['Compound'] + '_' + eWAT_targeted_isotopologues['combined_label']\n",
    "eWAT_targeted_isotopologues = eWAT_targeted_isotopologues.iloc[:, 2:]\n",
    "\n",
    "eWAT_targeted_isotopologues.set_index('eWAT_Compound', inplace=True)\n",
    "\n",
    "eWAT_df_for_master_df = eWAT_targeted_isotopologues.transpose().reset_index()\n",
    "\n",
    "mice = fractional_contribution_summary_df['Mouse'].tolist()\n",
    "\n",
    "eWAT_df_for_master_df['index'] = mice\n",
    "\n",
    "eWAT_df_for_master_df = eWAT_df_for_master_df.rename(columns={\"index\": \"Mouse\"})\n",
    "\n",
    "eWAT_FinalFrame = fractional_contribution_summary_df.merge(eWAT_df_for_master_df, how='inner', on='Mouse')"
   ]
  },
  {
   "cell_type": "code",
   "execution_count": 28,
   "metadata": {},
   "outputs": [
    {
     "name": "stderr",
     "output_type": "stream",
     "text": [
      "/var/folders/63/kvjwtxbn1hqfmqdmm3m1gg0r0000gn/T/ipykernel_76316/936656972.py:1: SettingWithCopyWarning: \n",
      "A value is trying to be set on a copy of a slice from a DataFrame.\n",
      "Try using .loc[row_indexer,col_indexer] = value instead\n",
      "\n",
      "See the caveats in the documentation: https://pandas.pydata.org/pandas-docs/stable/user_guide/indexing.html#returning-a-view-versus-a-copy\n",
      "  Heart_targeted_isotopologues['Heart_Compound'] = 'Heart_' + Heart_targeted_isotopologues['Compound'] + '_' + Heart_targeted_isotopologues['combined_label']\n"
     ]
    }
   ],
   "source": [
    "Heart_targeted_isotopologues['Heart_Compound'] = 'Heart_' + Heart_targeted_isotopologues['Compound'] + '_' + Heart_targeted_isotopologues['combined_label']\n",
    "Heart_targeted_isotopologues = Heart_targeted_isotopologues.iloc[:, 2:]\n",
    "\n",
    "Heart_targeted_isotopologues.set_index('Heart_Compound', inplace=True)\n",
    "\n",
    "Heart_df_for_master_df = Heart_targeted_isotopologues.transpose().reset_index()\n",
    "\n",
    "mice = fractional_contribution_summary_df['Mouse'].tolist()\n",
    "\n",
    "Heart_df_for_master_df['index'] = mice\n",
    "\n",
    "Heart_df_for_master_df = Heart_df_for_master_df.rename(columns={\"index\": \"Mouse\"})\n",
    "\n",
    "Heart_FinalFrame = fractional_contribution_summary_df.merge(Heart_df_for_master_df, how='inner', on='Mouse')"
   ]
  },
  {
   "cell_type": "code",
   "execution_count": 29,
   "metadata": {},
   "outputs": [
    {
     "name": "stderr",
     "output_type": "stream",
     "text": [
      "/var/folders/63/kvjwtxbn1hqfmqdmm3m1gg0r0000gn/T/ipykernel_76316/2438636125.py:1: SettingWithCopyWarning: \n",
      "A value is trying to be set on a copy of a slice from a DataFrame.\n",
      "Try using .loc[row_indexer,col_indexer] = value instead\n",
      "\n",
      "See the caveats in the documentation: https://pandas.pydata.org/pandas-docs/stable/user_guide/indexing.html#returning-a-view-versus-a-copy\n",
      "  Liver_targeted_isotopologues['Liver_Compound'] = 'Liver_' + Liver_targeted_isotopologues['Compound'] + '_' + Liver_targeted_isotopologues['combined_label']\n"
     ]
    }
   ],
   "source": [
    "Liver_targeted_isotopologues['Liver_Compound'] = 'Liver_' + Liver_targeted_isotopologues['Compound'] + '_' + Liver_targeted_isotopologues['combined_label']\n",
    "Liver_targeted_isotopologues = Liver_targeted_isotopologues.iloc[:, 2:]\n",
    "\n",
    "Liver_targeted_isotopologues.set_index('Liver_Compound', inplace=True)\n",
    "\n",
    "Liver_df_for_master_df = Liver_targeted_isotopologues.transpose().reset_index()\n",
    "\n",
    "mice = fractional_contribution_summary_df['Mouse'].tolist()\n",
    "\n",
    "Liver_df_for_master_df['index'] = mice\n",
    "\n",
    "Liver_df_for_master_df = Liver_df_for_master_df.rename(columns={\"index\": \"Mouse\"})\n",
    "\n",
    "Liver_FinalFrame = fractional_contribution_summary_df.merge(Liver_df_for_master_df, how='inner', on='Mouse')"
   ]
  },
  {
   "cell_type": "code",
   "execution_count": 30,
   "metadata": {},
   "outputs": [
    {
     "name": "stderr",
     "output_type": "stream",
     "text": [
      "/var/folders/63/kvjwtxbn1hqfmqdmm3m1gg0r0000gn/T/ipykernel_76316/1209505444.py:1: SettingWithCopyWarning: \n",
      "A value is trying to be set on a copy of a slice from a DataFrame.\n",
      "Try using .loc[row_indexer,col_indexer] = value instead\n",
      "\n",
      "See the caveats in the documentation: https://pandas.pydata.org/pandas-docs/stable/user_guide/indexing.html#returning-a-view-versus-a-copy\n",
      "  Lung_targeted_isotopologues['Lung_Compound'] = 'Lung_' + Lung_targeted_isotopologues['Compound'] + '_' + Lung_targeted_isotopologues['combined_label']\n"
     ]
    }
   ],
   "source": [
    "Lung_targeted_isotopologues['Lung_Compound'] = 'Lung_' + Lung_targeted_isotopologues['Compound'] + '_' + Lung_targeted_isotopologues['combined_label']\n",
    "Lung_targeted_isotopologues = Lung_targeted_isotopologues.iloc[:, 2:]\n",
    "\n",
    "Lung_targeted_isotopologues.set_index('Lung_Compound', inplace=True)\n",
    "\n",
    "Lung_df_for_master_df = Lung_targeted_isotopologues.transpose().reset_index()\n",
    "\n",
    "mice = fractional_contribution_summary_df['Mouse'].tolist()\n",
    "\n",
    "Lung_df_for_master_df['index'] = mice\n",
    "\n",
    "Lung_df_for_master_df = Lung_df_for_master_df.rename(columns={\"index\": \"Mouse\"})\n",
    "\n",
    "Lung_FinalFrame = fractional_contribution_summary_df.merge(Lung_df_for_master_df, how='inner', on='Mouse')"
   ]
  },
  {
   "cell_type": "code",
   "execution_count": 31,
   "metadata": {},
   "outputs": [
    {
     "name": "stderr",
     "output_type": "stream",
     "text": [
      "/var/folders/63/kvjwtxbn1hqfmqdmm3m1gg0r0000gn/T/ipykernel_76316/2189857400.py:1: SettingWithCopyWarning: \n",
      "A value is trying to be set on a copy of a slice from a DataFrame.\n",
      "Try using .loc[row_indexer,col_indexer] = value instead\n",
      "\n",
      "See the caveats in the documentation: https://pandas.pydata.org/pandas-docs/stable/user_guide/indexing.html#returning-a-view-versus-a-copy\n",
      "  Kidney_targeted_isotopologues['Kidney_Compound'] = 'Kidney_' + Kidney_targeted_isotopologues['Compound'] + '_' + Kidney_targeted_isotopologues['combined_label']\n"
     ]
    }
   ],
   "source": [
    "Kidney_targeted_isotopologues['Kidney_Compound'] = 'Kidney_' + Kidney_targeted_isotopologues['Compound'] + '_' + Kidney_targeted_isotopologues['combined_label']\n",
    "Kidney_targeted_isotopologues = Kidney_targeted_isotopologues.iloc[:, 2:]\n",
    "\n",
    "Kidney_targeted_isotopologues.set_index('Kidney_Compound', inplace=True)\n",
    "\n",
    "Kidney_df_for_master_df = Kidney_targeted_isotopologues.transpose().reset_index()\n",
    "\n",
    "mice = fractional_contribution_summary_df['Mouse'].tolist()\n",
    "\n",
    "Kidney_df_for_master_df['index'] = mice\n",
    "\n",
    "Kidney_df_for_master_df = Kidney_df_for_master_df.rename(columns={\"index\": \"Mouse\"})\n",
    "\n",
    "Kidney_FinalFrame = fractional_contribution_summary_df.merge(Kidney_df_for_master_df, how='inner', on='Mouse')"
   ]
  },
  {
   "cell_type": "code",
   "execution_count": 32,
   "metadata": {},
   "outputs": [
    {
     "name": "stderr",
     "output_type": "stream",
     "text": [
      "/var/folders/63/kvjwtxbn1hqfmqdmm3m1gg0r0000gn/T/ipykernel_76316/727803171.py:1: SettingWithCopyWarning: \n",
      "A value is trying to be set on a copy of a slice from a DataFrame.\n",
      "Try using .loc[row_indexer,col_indexer] = value instead\n",
      "\n",
      "See the caveats in the documentation: https://pandas.pydata.org/pandas-docs/stable/user_guide/indexing.html#returning-a-view-versus-a-copy\n",
      "  Quad_targeted_isotopologues['Quad_Compound'] = 'Quad_' + Quad_targeted_isotopologues['Compound'] + '_' + Quad_targeted_isotopologues['combined_label']\n"
     ]
    }
   ],
   "source": [
    "Quad_targeted_isotopologues['Quad_Compound'] = 'Quad_' + Quad_targeted_isotopologues['Compound'] + '_' + Quad_targeted_isotopologues['combined_label']\n",
    "Quad_targeted_isotopologues = Quad_targeted_isotopologues.iloc[:, 2:]\n",
    "\n",
    "Quad_targeted_isotopologues.set_index('Quad_Compound', inplace=True)\n",
    "\n",
    "Quad_df_for_master_df = Quad_targeted_isotopologues.transpose().reset_index()\n",
    "\n",
    "mice = fractional_contribution_summary_df['Mouse'].tolist()\n",
    "\n",
    "Quad_df_for_master_df['index'] = mice\n",
    "\n",
    "Quad_df_for_master_df = Quad_df_for_master_df.rename(columns={\"index\": \"Mouse\"})\n",
    "\n",
    "Quad_FinalFrame = fractional_contribution_summary_df.merge(Quad_df_for_master_df, how='inner', on='Mouse')"
   ]
  },
  {
   "cell_type": "code",
   "execution_count": 33,
   "metadata": {},
   "outputs": [
    {
     "name": "stderr",
     "output_type": "stream",
     "text": [
      "/var/folders/63/kvjwtxbn1hqfmqdmm3m1gg0r0000gn/T/ipykernel_76316/3106632686.py:1: SettingWithCopyWarning: \n",
      "A value is trying to be set on a copy of a slice from a DataFrame.\n",
      "Try using .loc[row_indexer,col_indexer] = value instead\n",
      "\n",
      "See the caveats in the documentation: https://pandas.pydata.org/pandas-docs/stable/user_guide/indexing.html#returning-a-view-versus-a-copy\n",
      "  Spleen_targeted_isotopologues['Spleen_Compound'] = 'Spleen_' + Spleen_targeted_isotopologues['Compound'] + '_' + Spleen_targeted_isotopologues['combined_label']\n"
     ]
    }
   ],
   "source": [
    "Spleen_targeted_isotopologues['Spleen_Compound'] = 'Spleen_' + Spleen_targeted_isotopologues['Compound'] + '_' + Spleen_targeted_isotopologues['combined_label']\n",
    "Spleen_targeted_isotopologues = Spleen_targeted_isotopologues.iloc[:, 2:]\n",
    "\n",
    "Spleen_targeted_isotopologues.set_index('Spleen_Compound', inplace=True)\n",
    "\n",
    "Spleen_df_for_master_df = Spleen_targeted_isotopologues.transpose().reset_index()\n",
    "\n",
    "mice = fractional_contribution_summary_df['Mouse'].tolist()\n",
    "\n",
    "Spleen_df_for_master_df['index'] = mice\n",
    "\n",
    "Spleen_df_for_master_df = Spleen_df_for_master_df.rename(columns={\"index\": \"Mouse\"})\n",
    "\n",
    "Spleen_FinalFrame = fractional_contribution_summary_df.merge(Spleen_df_for_master_df, how='inner', on='Mouse')"
   ]
  },
  {
   "cell_type": "code",
   "execution_count": 43,
   "metadata": {},
   "outputs": [
    {
     "data": {
      "text/plain": [
       "1.290109959388295"
      ]
     },
     "execution_count": 43,
     "metadata": {},
     "output_type": "execute_result"
    }
   ],
   "source": [
    "eWAT_FinalFrame['FC_Akg_Succ'] = (eWAT_FinalFrame['eWAT_succinate_13C_4_2H_0'] + eWAT_FinalFrame['eWAT_succinate_13C_2_2H_0']) / (eWAT_FinalFrame['eWAT_a-ketoglutarate_13C_5_2H_0'] + eWAT_FinalFrame['eWAT_a-ketoglutarate_13C_3_2H_0'])\n",
    "eWAT_FinalFrame['FC_Akg_Succ'].mean()"
   ]
  },
  {
   "cell_type": "code",
   "execution_count": 56,
   "metadata": {},
   "outputs": [
    {
     "data": {
      "text/plain": [
       "1.666153505957745"
      ]
     },
     "execution_count": 56,
     "metadata": {},
     "output_type": "execute_result"
    }
   ],
   "source": [
    "eWAT_FinalFrame['FC_Akg_Glu'] = eWAT_FinalFrame['eWAT_glutamate_13C_3_2H_0'] / eWAT_FinalFrame['eWAT_a-ketoglutarate_13C_3_2H_0']\n",
    "eWAT_FinalFrame['FC_Akg_Glu'].mean()"
   ]
  },
  {
   "cell_type": "code",
   "execution_count": null,
   "metadata": {},
   "outputs": [],
   "source": [
    "eWAT_FinalFrame['FC_Akg_Glu']\n",
    "\n"
   ]
  }
 ],
 "metadata": {
  "interpreter": {
   "hash": "7e0b1df48ae0120ab319f0bbe2cbf48c64d9ec9ece5a71668ddf7c93dfb898bd"
  },
  "kernelspec": {
   "display_name": "Python 3.9.7 ('sepsismetabolism')",
   "language": "python",
   "name": "python3"
  },
  "language_info": {
   "codemirror_mode": {
    "name": "ipython",
    "version": 3
   },
   "file_extension": ".py",
   "mimetype": "text/x-python",
   "name": "python",
   "nbconvert_exporter": "python",
   "pygments_lexer": "ipython3",
   "version": "3.9.7"
  },
  "orig_nbformat": 4
 },
 "nbformat": 4,
 "nbformat_minor": 2
}
