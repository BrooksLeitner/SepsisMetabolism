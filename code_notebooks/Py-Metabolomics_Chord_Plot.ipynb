{
 "cells": [
  {
   "cell_type": "code",
   "execution_count": 84,
   "metadata": {},
   "outputs": [],
   "source": [
    "import numpy as np\n",
    "import pandas as pd\n",
    "import seaborn as sns\n",
    "import matplotlib.pyplot as plt\n",
    "import scipy.stats\n",
    "\n",
    "plt.rcParams['svg.fonttype'] = 'none'\n",
    "\n",
    "framer = pd.DataFrame()"
   ]
  },
  {
   "cell_type": "code",
   "execution_count": 2,
   "metadata": {},
   "outputs": [],
   "source": [
    "plasmadata = \"/Users/brooksleitner/Desktop/Python/sepsismetabolism/data/flux/sepsis_fluxomics/Plasma_summary.xlsx\"\n",
    "tissuedata = \"/Users/brooksleitner/Desktop/Python/sepsismetabolism/data/flux/sepsis_fluxomics/Tissue_summary.xlsx\"\n",
    "\n",
    "plasmapoolsize = pd.read_excel(plasmadata, sheet_name=3, header=0)\n",
    "plasmanormalizedlabeling = pd.read_excel(plasmadata, sheet_name=2, header=0)\n",
    "\n",
    "tissuepoolsize = pd.read_excel(tissuedata, sheet_name=3, header=0)\n",
    "tissuenormalizedlabeling = pd.read_excel(tissuedata, sheet_name=2, header=0)"
   ]
  },
  {
   "cell_type": "code",
   "execution_count": 3,
   "metadata": {},
   "outputs": [],
   "source": [
    "#Convert float to INT to do math on dataframe\n",
    "tissuepoolsize1 = tissuepoolsize.set_index('Compound')\n",
    "tissuepoolsize = tissuepoolsize1.astype(int)\n",
    "\n",
    "plasmapoolsize1 = plasmapoolsize.set_index('Compound')\n",
    "plasmapoolsize = plasmapoolsize1.astype(int)"
   ]
  },
  {
   "cell_type": "code",
   "execution_count": 4,
   "metadata": {},
   "outputs": [],
   "source": [
    "#Pandas automatically does this normalization on a per column basis\n",
    "\n",
    "#Sample Normalization with fraction of sum of total peak area\n",
    "tissuepoolsize_nml = tissuepoolsize / tissuepoolsize.sum()\n",
    "plasmapoolsize_nml = plasmapoolsize / plasmapoolsize.sum()\n",
    "\n",
    "#Feature Normalization with log transform\n",
    "tissuepoolsize_nml = np.log2(tissuepoolsize_nml)\n",
    "\n",
    "#Transpose the dataframe to add info regarding exercise status\n",
    "tissuepoolsize_nml_t = tissuepoolsize_nml.transpose()"
   ]
  },
  {
   "cell_type": "code",
   "execution_count": 5,
   "metadata": {},
   "outputs": [
    {
     "name": "stderr",
     "output_type": "stream",
     "text": [
      "/var/folders/63/kvjwtxbn1hqfmqdmm3m1gg0r0000gn/T/ipykernel_93964/1094772515.py:3: SettingWithCopyWarning: \n",
      "A value is trying to be set on a copy of a slice from a DataFrame\n",
      "\n",
      "See the caveats in the documentation: https://pandas.pydata.org/pandas-docs/stable/user_guide/indexing.html#returning-a-view-versus-a-copy\n",
      "  tissuepoolsize_nml_t[\"Condition\"][tissuepoolsize_nml_t.index.str.contains('1|3|5|7|9|11|13|15')] = \"Sepsis\"\n",
      "/var/folders/63/kvjwtxbn1hqfmqdmm3m1gg0r0000gn/T/ipykernel_93964/1094772515.py:4: SettingWithCopyWarning: \n",
      "A value is trying to be set on a copy of a slice from a DataFrame\n",
      "\n",
      "See the caveats in the documentation: https://pandas.pydata.org/pandas-docs/stable/user_guide/indexing.html#returning-a-view-versus-a-copy\n",
      "  tissuepoolsize_nml_t[\"Condition\"][tissuepoolsize_nml_t.index.str.contains('2|4|6|8|10|12|14|16')] = \"Sham\"\n"
     ]
    }
   ],
   "source": [
    "#Add a column that gives each mouse's exercise vs sedentary condition\n",
    "tissuepoolsize_nml_t[\"Condition\"] = 'test'\n",
    "tissuepoolsize_nml_t[\"Condition\"][tissuepoolsize_nml_t.index.str.contains('1|3|5|7|9|11|13|15')] = \"Sepsis\"\n",
    "tissuepoolsize_nml_t[\"Condition\"][tissuepoolsize_nml_t.index.str.contains('2|4|6|8|10|12|14|16')] = \"Sham\""
   ]
  },
  {
   "cell_type": "code",
   "execution_count": 6,
   "metadata": {},
   "outputs": [],
   "source": [
    "sepsis_tissue_pool = tissuepoolsize_nml_t[tissuepoolsize_nml_t['Condition'] == 'Sepsis']\n",
    "sham_tissue_pool = tissuepoolsize_nml_t[tissuepoolsize_nml_t['Condition'] == 'Sham']"
   ]
  },
  {
   "cell_type": "code",
   "execution_count": 7,
   "metadata": {},
   "outputs": [
    {
     "name": "stderr",
     "output_type": "stream",
     "text": [
      "/var/folders/63/kvjwtxbn1hqfmqdmm3m1gg0r0000gn/T/ipykernel_93964/1859778861.py:3: SettingWithCopyWarning: \n",
      "A value is trying to be set on a copy of a slice from a DataFrame.\n",
      "Try using .loc[row_indexer,col_indexer] = value instead\n",
      "\n",
      "See the caveats in the documentation: https://pandas.pydata.org/pandas-docs/stable/user_guide/indexing.html#returning-a-view-versus-a-copy\n",
      "  sepsis_tissue_pool['Tissue'] = tissues * int(len(sepsis_tissue_pool['Condition']) / 7)\n",
      "/var/folders/63/kvjwtxbn1hqfmqdmm3m1gg0r0000gn/T/ipykernel_93964/1859778861.py:4: SettingWithCopyWarning: \n",
      "A value is trying to be set on a copy of a slice from a DataFrame.\n",
      "Try using .loc[row_indexer,col_indexer] = value instead\n",
      "\n",
      "See the caveats in the documentation: https://pandas.pydata.org/pandas-docs/stable/user_guide/indexing.html#returning-a-view-versus-a-copy\n",
      "  sham_tissue_pool['Tissue'] = tissues * int(len(sham_tissue_pool['Condition']) / 7)\n"
     ]
    }
   ],
   "source": [
    "tissues = ['eWAT', 'Heart', 'Kidney', 'Liver', 'Lung', 'Quad', 'Spleen']\n",
    "\n",
    "sepsis_tissue_pool['Tissue'] = tissues * int(len(sepsis_tissue_pool['Condition']) / 7)\n",
    "sham_tissue_pool['Tissue'] = tissues * int(len(sham_tissue_pool['Condition']) / 7)"
   ]
  },
  {
   "cell_type": "code",
   "execution_count": 8,
   "metadata": {},
   "outputs": [],
   "source": [
    "eWAT_sepsis_df = sepsis_tissue_pool[sepsis_tissue_pool['Tissue'] == str(tissues[0])].iloc[:, :-2].transpose()\n",
    "Heart_sepsis_df = sepsis_tissue_pool[sepsis_tissue_pool['Tissue'] == str(tissues[1])].iloc[:, :-2].transpose()\n",
    "Kidney_sepsis_df = sepsis_tissue_pool[sepsis_tissue_pool['Tissue'] == str(tissues[2])].iloc[:, :-2].transpose()\n",
    "Liver_sepsis_df = sepsis_tissue_pool[sepsis_tissue_pool['Tissue'] == str(tissues[3])].iloc[:, :-2].transpose()\n",
    "Lung_sepsis_df = sepsis_tissue_pool[sepsis_tissue_pool['Tissue'] == str(tissues[4])].iloc[:, :-2].transpose()\n",
    "Quad_sepsis_df = sepsis_tissue_pool[sepsis_tissue_pool['Tissue'] == str(tissues[5])].iloc[:, :-2].transpose()\n",
    "Spleen_sepsis_df = sepsis_tissue_pool[sepsis_tissue_pool['Tissue'] == str(tissues[6])].iloc[:, :-2].transpose()"
   ]
  },
  {
   "cell_type": "code",
   "execution_count": 9,
   "metadata": {},
   "outputs": [],
   "source": [
    "#Get list of metabolites from any of the dataframes\n",
    "\n",
    "metabolites = eWAT_sepsis_df.index.tolist()"
   ]
  },
  {
   "cell_type": "code",
   "execution_count": 10,
   "metadata": {},
   "outputs": [],
   "source": [
    "#Obtain values from each dataframe to run statistics\n",
    "\n",
    "wat_vals = eWAT_sepsis_df.values.tolist()\n",
    "heart_vals = Heart_sepsis_df.values.tolist()\n",
    "kidney_vals = Kidney_sepsis_df.values.tolist()\n",
    "liver_vals = Liver_sepsis_df.values.tolist()\n",
    "lung_vals = Lung_sepsis_df.values.tolist()\n",
    "quad_vals = Quad_sepsis_df.values.tolist()\n",
    "spleen_vals = Spleen_sepsis_df.values.tolist()"
   ]
  },
  {
   "cell_type": "markdown",
   "metadata": {},
   "source": [
    "21 Comparisons\n",
    "\n",
    "WAT vs. Heart"
   ]
  },
  {
   "cell_type": "code",
   "execution_count": 21,
   "metadata": {},
   "outputs": [
    {
     "name": "stderr",
     "output_type": "stream",
     "text": [
      "/var/folders/63/kvjwtxbn1hqfmqdmm3m1gg0r0000gn/T/ipykernel_93964/870657794.py:16: SettingWithCopyWarning: \n",
      "A value is trying to be set on a copy of a slice from a DataFrame.\n",
      "Try using .loc[row_indexer,col_indexer] = value instead\n",
      "\n",
      "See the caveats in the documentation: https://pandas.pydata.org/pandas-docs/stable/user_guide/indexing.html#returning-a-view-versus-a-copy\n",
      "  wat_v_heart_sig['Tissue_Interaction'] = 'wat_v_heart'\n"
     ]
    }
   ],
   "source": [
    "#Generate Spearman R and P Values for intertissue metabolites for all tissue interaction\n",
    "\n",
    "ps = []\n",
    "SpearmanR = []\n",
    "\n",
    "for x, y, z in zip(metabolites, wat_vals, heart_vals):\n",
    "    SpearmanR.append(scipy.stats.spearmanr(y, z)[0])\n",
    "    ps.append(scipy.stats.spearmanr(y, z)[1])\n",
    "\n",
    "wat_v_heart = framer.append(metabolites)\n",
    "wat_v_heart['SpearmanR'] = SpearmanR\n",
    "wat_v_heart['p'] = ps\n",
    "\n",
    "wat_v_heart = wat_v_heart.sort_values('p')\n",
    "wat_v_heart_sig = wat_v_heart[wat_v_heart['p'] < 0.05]\n",
    "wat_v_heart_sig['Tissue_Interaction'] = 'wat_v_heart'\n"
   ]
  },
  {
   "cell_type": "markdown",
   "metadata": {},
   "source": [
    "WAT vs Kidney"
   ]
  },
  {
   "cell_type": "code",
   "execution_count": 23,
   "metadata": {},
   "outputs": [
    {
     "name": "stderr",
     "output_type": "stream",
     "text": [
      "/var/folders/63/kvjwtxbn1hqfmqdmm3m1gg0r0000gn/T/ipykernel_93964/473348795.py:15: SettingWithCopyWarning: \n",
      "A value is trying to be set on a copy of a slice from a DataFrame.\n",
      "Try using .loc[row_indexer,col_indexer] = value instead\n",
      "\n",
      "See the caveats in the documentation: https://pandas.pydata.org/pandas-docs/stable/user_guide/indexing.html#returning-a-view-versus-a-copy\n",
      "  wat_v_kidney_sig['Tissue_Interaction'] = 'wat_v_kidney'\n"
     ]
    }
   ],
   "source": [
    "#Generate Spearman R and P Values for intertissue metabolites for all tissue interaction\n",
    "\n",
    "ps = []\n",
    "SpearmanR = []\n",
    "\n",
    "for x, y, z in zip(metabolites, wat_vals, kidney_vals):\n",
    "    SpearmanR.append(scipy.stats.spearmanr(y, z)[0])\n",
    "    ps.append(scipy.stats.spearmanr(y, z)[1])\n",
    "\n",
    "wat_v_kidney = framer.append(metabolites)\n",
    "wat_v_kidney['SpearmanR'] = SpearmanR\n",
    "wat_v_kidney['p'] = ps\n",
    "wat_v_kidney = wat_v_kidney.sort_values('p')\n",
    "wat_v_kidney_sig = wat_v_kidney[wat_v_kidney['p'] < 0.05]\n",
    "wat_v_kidney_sig['Tissue_Interaction'] = 'wat_v_kidney'"
   ]
  },
  {
   "cell_type": "markdown",
   "metadata": {},
   "source": [
    "wat vs liver"
   ]
  },
  {
   "cell_type": "code",
   "execution_count": 27,
   "metadata": {},
   "outputs": [
    {
     "name": "stderr",
     "output_type": "stream",
     "text": [
      "/var/folders/63/kvjwtxbn1hqfmqdmm3m1gg0r0000gn/T/ipykernel_93964/2326900675.py:15: SettingWithCopyWarning: \n",
      "A value is trying to be set on a copy of a slice from a DataFrame.\n",
      "Try using .loc[row_indexer,col_indexer] = value instead\n",
      "\n",
      "See the caveats in the documentation: https://pandas.pydata.org/pandas-docs/stable/user_guide/indexing.html#returning-a-view-versus-a-copy\n",
      "  wat_v_liver_sig['Tissue_Interaction'] = 'wat_v_liver'\n"
     ]
    }
   ],
   "source": [
    "#Generate Spearman R and P Values for intertissue metabolites for all tissue interaction\n",
    "\n",
    "ps = []\n",
    "SpearmanR = []\n",
    "\n",
    "for x, y, z in zip(metabolites, wat_vals, liver_vals):\n",
    "    SpearmanR.append(scipy.stats.spearmanr(y, z)[0])\n",
    "    ps.append(scipy.stats.spearmanr(y, z)[1])\n",
    "\n",
    "wat_v_liver = framer.append(metabolites)\n",
    "wat_v_liver['SpearmanR'] = SpearmanR\n",
    "wat_v_liver['p'] = ps\n",
    "wat_v_liver = wat_v_liver.sort_values('p')\n",
    "wat_v_liver_sig = wat_v_liver[wat_v_liver['p'] < 0.05]\n",
    "wat_v_liver_sig['Tissue_Interaction'] = 'wat_v_liver'"
   ]
  },
  {
   "cell_type": "markdown",
   "metadata": {},
   "source": [
    "wat vs lung"
   ]
  },
  {
   "cell_type": "code",
   "execution_count": 28,
   "metadata": {},
   "outputs": [
    {
     "name": "stderr",
     "output_type": "stream",
     "text": [
      "/var/folders/63/kvjwtxbn1hqfmqdmm3m1gg0r0000gn/T/ipykernel_93964/1309243148.py:15: SettingWithCopyWarning: \n",
      "A value is trying to be set on a copy of a slice from a DataFrame.\n",
      "Try using .loc[row_indexer,col_indexer] = value instead\n",
      "\n",
      "See the caveats in the documentation: https://pandas.pydata.org/pandas-docs/stable/user_guide/indexing.html#returning-a-view-versus-a-copy\n",
      "  wat_v_lung_sig['Tissue_Interaction'] = 'wat_v_lung'\n"
     ]
    }
   ],
   "source": [
    "#Generate Spearman R and P Values for intertissue metabolites for all tissue interaction\n",
    "\n",
    "ps = []\n",
    "SpearmanR = []\n",
    "\n",
    "for x, y, z in zip(metabolites, wat_vals, lung_vals):\n",
    "    SpearmanR.append(scipy.stats.spearmanr(y, z)[0])\n",
    "    ps.append(scipy.stats.spearmanr(y, z)[1])\n",
    "\n",
    "wat_v_lung = framer.append(metabolites)\n",
    "wat_v_lung['SpearmanR'] = SpearmanR\n",
    "wat_v_lung['p'] = ps\n",
    "wat_v_lung = wat_v_lung.sort_values('p')\n",
    "wat_v_lung_sig = wat_v_lung[wat_v_lung['p'] < 0.05]\n",
    "wat_v_lung_sig['Tissue_Interaction'] = 'wat_v_lung'"
   ]
  },
  {
   "cell_type": "markdown",
   "metadata": {},
   "source": [
    "wat vs quad"
   ]
  },
  {
   "cell_type": "code",
   "execution_count": 29,
   "metadata": {},
   "outputs": [
    {
     "name": "stderr",
     "output_type": "stream",
     "text": [
      "/var/folders/63/kvjwtxbn1hqfmqdmm3m1gg0r0000gn/T/ipykernel_93964/2371657360.py:15: SettingWithCopyWarning: \n",
      "A value is trying to be set on a copy of a slice from a DataFrame.\n",
      "Try using .loc[row_indexer,col_indexer] = value instead\n",
      "\n",
      "See the caveats in the documentation: https://pandas.pydata.org/pandas-docs/stable/user_guide/indexing.html#returning-a-view-versus-a-copy\n",
      "  wat_v_quad_sig['Tissue_Interaction'] = 'wat_v_quad'\n"
     ]
    }
   ],
   "source": [
    "#Generate Spearman R and P Values for intertissue metabolites for all tissue interaction\n",
    "\n",
    "ps = []\n",
    "SpearmanR = []\n",
    "\n",
    "for x, y, z in zip(metabolites, wat_vals, quad_vals):\n",
    "    SpearmanR.append(scipy.stats.spearmanr(y, z)[0])\n",
    "    ps.append(scipy.stats.spearmanr(y, z)[1])\n",
    "\n",
    "wat_v_quad = framer.append(metabolites)\n",
    "wat_v_quad['SpearmanR'] = SpearmanR\n",
    "wat_v_quad['p'] = ps\n",
    "wat_v_quad = wat_v_quad.sort_values('p')\n",
    "wat_v_quad_sig = wat_v_quad[wat_v_quad['p'] < 0.05]\n",
    "wat_v_quad_sig['Tissue_Interaction'] = 'wat_v_quad'"
   ]
  },
  {
   "cell_type": "markdown",
   "metadata": {},
   "source": [
    "wat vs spleen"
   ]
  },
  {
   "cell_type": "code",
   "execution_count": 30,
   "metadata": {},
   "outputs": [
    {
     "name": "stderr",
     "output_type": "stream",
     "text": [
      "/var/folders/63/kvjwtxbn1hqfmqdmm3m1gg0r0000gn/T/ipykernel_93964/2848441415.py:15: SettingWithCopyWarning: \n",
      "A value is trying to be set on a copy of a slice from a DataFrame.\n",
      "Try using .loc[row_indexer,col_indexer] = value instead\n",
      "\n",
      "See the caveats in the documentation: https://pandas.pydata.org/pandas-docs/stable/user_guide/indexing.html#returning-a-view-versus-a-copy\n",
      "  wat_v_spleen_sig['Tissue_Interaction'] = 'wat_v_spleen'\n"
     ]
    }
   ],
   "source": [
    "#Generate Spearman R and P Values for intertissue metabolites for all tissue interaction\n",
    "\n",
    "ps = []\n",
    "SpearmanR = []\n",
    "\n",
    "for x, y, z in zip(metabolites, wat_vals, spleen_vals):\n",
    "    SpearmanR.append(scipy.stats.spearmanr(y, z)[0])\n",
    "    ps.append(scipy.stats.spearmanr(y, z)[1])\n",
    "\n",
    "wat_v_spleen = framer.append(metabolites)\n",
    "wat_v_spleen['SpearmanR'] = SpearmanR\n",
    "wat_v_spleen['p'] = ps\n",
    "wat_v_spleen = wat_v_spleen.sort_values('p')\n",
    "wat_v_spleen_sig = wat_v_spleen[wat_v_spleen['p'] < 0.05]\n",
    "wat_v_spleen_sig['Tissue_Interaction'] = 'wat_v_spleen'"
   ]
  },
  {
   "cell_type": "markdown",
   "metadata": {},
   "source": [
    "heart vs kidney"
   ]
  },
  {
   "cell_type": "code",
   "execution_count": 31,
   "metadata": {},
   "outputs": [
    {
     "name": "stderr",
     "output_type": "stream",
     "text": [
      "/var/folders/63/kvjwtxbn1hqfmqdmm3m1gg0r0000gn/T/ipykernel_93964/3643927312.py:15: SettingWithCopyWarning: \n",
      "A value is trying to be set on a copy of a slice from a DataFrame.\n",
      "Try using .loc[row_indexer,col_indexer] = value instead\n",
      "\n",
      "See the caveats in the documentation: https://pandas.pydata.org/pandas-docs/stable/user_guide/indexing.html#returning-a-view-versus-a-copy\n",
      "  heart_v_kidney_sig['Tissue_Interaction'] = 'heart_v_kidney'\n"
     ]
    }
   ],
   "source": [
    "#Generate Spearman R and P Values for intertissue metabolites for all tissue interaction\n",
    "\n",
    "ps = []\n",
    "SpearmanR = []\n",
    "\n",
    "for x, y, z in zip(metabolites, heart_vals, kidney_vals):\n",
    "    SpearmanR.append(scipy.stats.spearmanr(y, z)[0])\n",
    "    ps.append(scipy.stats.spearmanr(y, z)[1])\n",
    "\n",
    "heart_v_kidney = framer.append(metabolites)\n",
    "heart_v_kidney['SpearmanR'] = SpearmanR\n",
    "heart_v_kidney['p'] = ps\n",
    "heart_v_kidney = heart_v_kidney.sort_values('p')\n",
    "heart_v_kidney_sig = heart_v_kidney[heart_v_kidney['p'] < 0.05]\n",
    "heart_v_kidney_sig['Tissue_Interaction'] = 'heart_v_kidney'"
   ]
  },
  {
   "cell_type": "markdown",
   "metadata": {},
   "source": [
    "heart vs liver"
   ]
  },
  {
   "cell_type": "code",
   "execution_count": 32,
   "metadata": {},
   "outputs": [
    {
     "name": "stderr",
     "output_type": "stream",
     "text": [
      "/var/folders/63/kvjwtxbn1hqfmqdmm3m1gg0r0000gn/T/ipykernel_93964/869855609.py:15: SettingWithCopyWarning: \n",
      "A value is trying to be set on a copy of a slice from a DataFrame.\n",
      "Try using .loc[row_indexer,col_indexer] = value instead\n",
      "\n",
      "See the caveats in the documentation: https://pandas.pydata.org/pandas-docs/stable/user_guide/indexing.html#returning-a-view-versus-a-copy\n",
      "  heart_v_liver_sig['Tissue_Interaction'] = 'heart_v_liver'\n"
     ]
    }
   ],
   "source": [
    "#Generate Spearman R and P Values for intertissue metabolites for all tissue interaction\n",
    "\n",
    "ps = []\n",
    "SpearmanR = []\n",
    "\n",
    "for x, y, z in zip(metabolites, heart_vals, liver_vals):\n",
    "    SpearmanR.append(scipy.stats.spearmanr(y, z)[0])\n",
    "    ps.append(scipy.stats.spearmanr(y, z)[1])\n",
    "\n",
    "heart_v_liver = framer.append(metabolites)\n",
    "heart_v_liver['SpearmanR'] = SpearmanR\n",
    "heart_v_liver['p'] = ps\n",
    "heart_v_liver = heart_v_liver.sort_values('p')\n",
    "heart_v_liver_sig = heart_v_liver[heart_v_liver['p'] < 0.05]\n",
    "heart_v_liver_sig['Tissue_Interaction'] = 'heart_v_liver'"
   ]
  },
  {
   "cell_type": "markdown",
   "metadata": {},
   "source": [
    "heart vs lung"
   ]
  },
  {
   "cell_type": "code",
   "execution_count": 33,
   "metadata": {},
   "outputs": [
    {
     "name": "stderr",
     "output_type": "stream",
     "text": [
      "/var/folders/63/kvjwtxbn1hqfmqdmm3m1gg0r0000gn/T/ipykernel_93964/3891727752.py:15: SettingWithCopyWarning: \n",
      "A value is trying to be set on a copy of a slice from a DataFrame.\n",
      "Try using .loc[row_indexer,col_indexer] = value instead\n",
      "\n",
      "See the caveats in the documentation: https://pandas.pydata.org/pandas-docs/stable/user_guide/indexing.html#returning-a-view-versus-a-copy\n",
      "  heart_v_lung_sig['Tissue_Interaction'] = 'heart_v_lung'\n"
     ]
    }
   ],
   "source": [
    "#Generate Spearman R and P Values for intertissue metabolites for all tissue interaction\n",
    "\n",
    "ps = []\n",
    "SpearmanR = []\n",
    "\n",
    "for x, y, z in zip(metabolites, heart_vals, lung_vals):\n",
    "    SpearmanR.append(scipy.stats.spearmanr(y, z)[0])\n",
    "    ps.append(scipy.stats.spearmanr(y, z)[1])\n",
    "\n",
    "heart_v_lung = framer.append(metabolites)\n",
    "heart_v_lung['SpearmanR'] = SpearmanR\n",
    "heart_v_lung['p'] = ps\n",
    "heart_v_lung = heart_v_lung.sort_values('p')\n",
    "heart_v_lung_sig = heart_v_lung[heart_v_lung['p'] < 0.05]\n",
    "heart_v_lung_sig['Tissue_Interaction'] = 'heart_v_lung'"
   ]
  },
  {
   "cell_type": "markdown",
   "metadata": {},
   "source": [
    "heart vs quad"
   ]
  },
  {
   "cell_type": "code",
   "execution_count": 34,
   "metadata": {},
   "outputs": [
    {
     "name": "stderr",
     "output_type": "stream",
     "text": [
      "/var/folders/63/kvjwtxbn1hqfmqdmm3m1gg0r0000gn/T/ipykernel_93964/633119832.py:15: SettingWithCopyWarning: \n",
      "A value is trying to be set on a copy of a slice from a DataFrame.\n",
      "Try using .loc[row_indexer,col_indexer] = value instead\n",
      "\n",
      "See the caveats in the documentation: https://pandas.pydata.org/pandas-docs/stable/user_guide/indexing.html#returning-a-view-versus-a-copy\n",
      "  heart_v_quad_sig['Tissue_Interaction'] = 'heart_v_quad'\n"
     ]
    }
   ],
   "source": [
    "#Generate Spearman R and P Values for intertissue metabolites for all tissue interaction\n",
    "\n",
    "ps = []\n",
    "SpearmanR = []\n",
    "\n",
    "for x, y, z in zip(metabolites, heart_vals, quad_vals):\n",
    "    SpearmanR.append(scipy.stats.spearmanr(y, z)[0])\n",
    "    ps.append(scipy.stats.spearmanr(y, z)[1])\n",
    "\n",
    "heart_v_quad = framer.append(metabolites)\n",
    "heart_v_quad['SpearmanR'] = SpearmanR\n",
    "heart_v_quad['p'] = ps\n",
    "heart_v_quad = heart_v_quad.sort_values('p')\n",
    "heart_v_quad_sig = heart_v_quad[heart_v_quad['p'] < 0.05]\n",
    "heart_v_quad_sig['Tissue_Interaction'] = 'heart_v_quad'"
   ]
  },
  {
   "cell_type": "markdown",
   "metadata": {},
   "source": [
    "heart vs spleen"
   ]
  },
  {
   "cell_type": "code",
   "execution_count": 35,
   "metadata": {},
   "outputs": [
    {
     "name": "stderr",
     "output_type": "stream",
     "text": [
      "/var/folders/63/kvjwtxbn1hqfmqdmm3m1gg0r0000gn/T/ipykernel_93964/1919823672.py:15: SettingWithCopyWarning: \n",
      "A value is trying to be set on a copy of a slice from a DataFrame.\n",
      "Try using .loc[row_indexer,col_indexer] = value instead\n",
      "\n",
      "See the caveats in the documentation: https://pandas.pydata.org/pandas-docs/stable/user_guide/indexing.html#returning-a-view-versus-a-copy\n",
      "  heart_v_spleen_sig['Tissue_Interaction'] = 'heart_v_spleen'\n"
     ]
    }
   ],
   "source": [
    "#Generate Spearman R and P Values for intertissue metabolites for all tissue interaction\n",
    "\n",
    "ps = []\n",
    "SpearmanR = []\n",
    "\n",
    "for x, y, z in zip(metabolites, heart_vals, spleen_vals):\n",
    "    SpearmanR.append(scipy.stats.spearmanr(y, z)[0])\n",
    "    ps.append(scipy.stats.spearmanr(y, z)[1])\n",
    "\n",
    "heart_v_spleen = framer.append(metabolites)\n",
    "heart_v_spleen['SpearmanR'] = SpearmanR\n",
    "heart_v_spleen['p'] = ps\n",
    "heart_v_spleen = heart_v_spleen.sort_values('p')\n",
    "heart_v_spleen_sig = heart_v_spleen[heart_v_spleen['p'] < 0.05]\n",
    "heart_v_spleen_sig['Tissue_Interaction'] = 'heart_v_spleen'"
   ]
  },
  {
   "cell_type": "markdown",
   "metadata": {},
   "source": [
    "kidney vs liver"
   ]
  },
  {
   "cell_type": "code",
   "execution_count": 36,
   "metadata": {},
   "outputs": [
    {
     "name": "stderr",
     "output_type": "stream",
     "text": [
      "/var/folders/63/kvjwtxbn1hqfmqdmm3m1gg0r0000gn/T/ipykernel_93964/2633811498.py:15: SettingWithCopyWarning: \n",
      "A value is trying to be set on a copy of a slice from a DataFrame.\n",
      "Try using .loc[row_indexer,col_indexer] = value instead\n",
      "\n",
      "See the caveats in the documentation: https://pandas.pydata.org/pandas-docs/stable/user_guide/indexing.html#returning-a-view-versus-a-copy\n",
      "  kidney_v_liver_sig['Tissue_Interaction'] = 'kidney_v_liver'\n"
     ]
    }
   ],
   "source": [
    "#Generate Spearman R and P Values for intertissue metabolites for all tissue interaction\n",
    "\n",
    "ps = []\n",
    "SpearmanR = []\n",
    "\n",
    "for x, y, z in zip(metabolites, kidney_vals, liver_vals):\n",
    "    SpearmanR.append(scipy.stats.spearmanr(y, z)[0])\n",
    "    ps.append(scipy.stats.spearmanr(y, z)[1])\n",
    "\n",
    "kidney_v_liver = framer.append(metabolites)\n",
    "kidney_v_liver['SpearmanR'] = SpearmanR\n",
    "kidney_v_liver['p'] = ps\n",
    "kidney_v_liver = kidney_v_liver.sort_values('p')\n",
    "kidney_v_liver_sig = kidney_v_liver[kidney_v_liver['p'] < 0.05]\n",
    "kidney_v_liver_sig['Tissue_Interaction'] = 'kidney_v_liver'"
   ]
  },
  {
   "cell_type": "markdown",
   "metadata": {},
   "source": [
    "kidney vs lung"
   ]
  },
  {
   "cell_type": "code",
   "execution_count": 37,
   "metadata": {},
   "outputs": [
    {
     "name": "stderr",
     "output_type": "stream",
     "text": [
      "/var/folders/63/kvjwtxbn1hqfmqdmm3m1gg0r0000gn/T/ipykernel_93964/1660952768.py:15: SettingWithCopyWarning: \n",
      "A value is trying to be set on a copy of a slice from a DataFrame.\n",
      "Try using .loc[row_indexer,col_indexer] = value instead\n",
      "\n",
      "See the caveats in the documentation: https://pandas.pydata.org/pandas-docs/stable/user_guide/indexing.html#returning-a-view-versus-a-copy\n",
      "  kidney_v_lung_sig['Tissue_Interaction'] = 'kidney_v_lung'\n"
     ]
    }
   ],
   "source": [
    "#Generate Spearman R and P Values for intertissue metabolites for all tissue interaction\n",
    "\n",
    "ps = []\n",
    "SpearmanR = []\n",
    "\n",
    "for x, y, z in zip(metabolites, kidney_vals, lung_vals):\n",
    "    SpearmanR.append(scipy.stats.spearmanr(y, z)[0])\n",
    "    ps.append(scipy.stats.spearmanr(y, z)[1])\n",
    "\n",
    "kidney_v_lung = framer.append(metabolites)\n",
    "kidney_v_lung['SpearmanR'] = SpearmanR\n",
    "kidney_v_lung['p'] = ps\n",
    "kidney_v_lung = kidney_v_lung.sort_values('p')\n",
    "kidney_v_lung_sig = kidney_v_lung[kidney_v_lung['p'] < 0.05]\n",
    "kidney_v_lung_sig['Tissue_Interaction'] = 'kidney_v_lung'"
   ]
  },
  {
   "cell_type": "markdown",
   "metadata": {},
   "source": [
    "kidney vs quad"
   ]
  },
  {
   "cell_type": "code",
   "execution_count": 38,
   "metadata": {},
   "outputs": [
    {
     "name": "stderr",
     "output_type": "stream",
     "text": [
      "/var/folders/63/kvjwtxbn1hqfmqdmm3m1gg0r0000gn/T/ipykernel_93964/469064408.py:15: SettingWithCopyWarning: \n",
      "A value is trying to be set on a copy of a slice from a DataFrame.\n",
      "Try using .loc[row_indexer,col_indexer] = value instead\n",
      "\n",
      "See the caveats in the documentation: https://pandas.pydata.org/pandas-docs/stable/user_guide/indexing.html#returning-a-view-versus-a-copy\n",
      "  kidney_v_quad_sig['Tissue_Interaction'] = 'kidney_v_quad'\n"
     ]
    }
   ],
   "source": [
    "#Generate Spearman R and P Values for intertissue metabolites for all tissue interaction\n",
    "\n",
    "ps = []\n",
    "SpearmanR = []\n",
    "\n",
    "for x, y, z in zip(metabolites, kidney_vals, quad_vals):\n",
    "    SpearmanR.append(scipy.stats.spearmanr(y, z)[0])\n",
    "    ps.append(scipy.stats.spearmanr(y, z)[1])\n",
    "\n",
    "kidney_v_quad = framer.append(metabolites)\n",
    "kidney_v_quad['SpearmanR'] = SpearmanR\n",
    "kidney_v_quad['p'] = ps\n",
    "kidney_v_quad = kidney_v_quad.sort_values('p')\n",
    "kidney_v_quad_sig = kidney_v_quad[kidney_v_quad['p'] < 0.05]\n",
    "kidney_v_quad_sig['Tissue_Interaction'] = 'kidney_v_quad'"
   ]
  },
  {
   "cell_type": "markdown",
   "metadata": {},
   "source": [
    "kidney vs spleen"
   ]
  },
  {
   "cell_type": "code",
   "execution_count": 39,
   "metadata": {},
   "outputs": [
    {
     "name": "stderr",
     "output_type": "stream",
     "text": [
      "/var/folders/63/kvjwtxbn1hqfmqdmm3m1gg0r0000gn/T/ipykernel_93964/4205852332.py:15: SettingWithCopyWarning: \n",
      "A value is trying to be set on a copy of a slice from a DataFrame.\n",
      "Try using .loc[row_indexer,col_indexer] = value instead\n",
      "\n",
      "See the caveats in the documentation: https://pandas.pydata.org/pandas-docs/stable/user_guide/indexing.html#returning-a-view-versus-a-copy\n",
      "  kidney_v_spleen_sig['Tissue_Interaction'] = 'kidney_v_spleen'\n"
     ]
    }
   ],
   "source": [
    "#Generate Spearman R and P Values for intertissue metabolites for all tissue interaction\n",
    "\n",
    "ps = []\n",
    "SpearmanR = []\n",
    "\n",
    "for x, y, z in zip(metabolites, kidney_vals, spleen_vals):\n",
    "    SpearmanR.append(scipy.stats.spearmanr(y, z)[0])\n",
    "    ps.append(scipy.stats.spearmanr(y, z)[1])\n",
    "\n",
    "kidney_v_spleen = framer.append(metabolites)\n",
    "kidney_v_spleen['SpearmanR'] = SpearmanR\n",
    "kidney_v_spleen['p'] = ps\n",
    "kidney_v_spleen = kidney_v_spleen.sort_values('p')\n",
    "kidney_v_spleen_sig = kidney_v_spleen[kidney_v_spleen['p'] < 0.05]\n",
    "kidney_v_spleen_sig['Tissue_Interaction'] = 'kidney_v_spleen'"
   ]
  },
  {
   "cell_type": "markdown",
   "metadata": {},
   "source": [
    "liver vs lung"
   ]
  },
  {
   "cell_type": "code",
   "execution_count": 40,
   "metadata": {},
   "outputs": [
    {
     "name": "stderr",
     "output_type": "stream",
     "text": [
      "/var/folders/63/kvjwtxbn1hqfmqdmm3m1gg0r0000gn/T/ipykernel_93964/3550170202.py:15: SettingWithCopyWarning: \n",
      "A value is trying to be set on a copy of a slice from a DataFrame.\n",
      "Try using .loc[row_indexer,col_indexer] = value instead\n",
      "\n",
      "See the caveats in the documentation: https://pandas.pydata.org/pandas-docs/stable/user_guide/indexing.html#returning-a-view-versus-a-copy\n",
      "  liver_v_lung_sig['Tissue_Interaction'] = 'liver_v_lung'\n"
     ]
    }
   ],
   "source": [
    "#Generate Spearman R and P Values for intertissue metabolites for all tissue interaction\n",
    "\n",
    "ps = []\n",
    "SpearmanR = []\n",
    "\n",
    "for x, y, z in zip(metabolites, liver_vals, lung_vals):\n",
    "    SpearmanR.append(scipy.stats.spearmanr(y, z)[0])\n",
    "    ps.append(scipy.stats.spearmanr(y, z)[1])\n",
    "\n",
    "liver_v_lung = framer.append(metabolites)\n",
    "liver_v_lung['SpearmanR'] = SpearmanR\n",
    "liver_v_lung['p'] = ps\n",
    "liver_v_lung = liver_v_lung.sort_values('p')\n",
    "liver_v_lung_sig = liver_v_lung[liver_v_lung['p'] < 0.05]\n",
    "liver_v_lung_sig['Tissue_Interaction'] = 'liver_v_lung'"
   ]
  },
  {
   "cell_type": "markdown",
   "metadata": {},
   "source": [
    "liver vs quad"
   ]
  },
  {
   "cell_type": "code",
   "execution_count": 41,
   "metadata": {},
   "outputs": [
    {
     "name": "stderr",
     "output_type": "stream",
     "text": [
      "/var/folders/63/kvjwtxbn1hqfmqdmm3m1gg0r0000gn/T/ipykernel_93964/3680036043.py:15: SettingWithCopyWarning: \n",
      "A value is trying to be set on a copy of a slice from a DataFrame.\n",
      "Try using .loc[row_indexer,col_indexer] = value instead\n",
      "\n",
      "See the caveats in the documentation: https://pandas.pydata.org/pandas-docs/stable/user_guide/indexing.html#returning-a-view-versus-a-copy\n",
      "  liver_v_quad_sig['Tissue_Interaction'] = 'liver_v_quad'\n"
     ]
    }
   ],
   "source": [
    "#Generate Spearman R and P Values for intertissue metabolites for all tissue interaction\n",
    "\n",
    "ps = []\n",
    "SpearmanR = []\n",
    "\n",
    "for x, y, z in zip(metabolites, liver_vals, quad_vals):\n",
    "    SpearmanR.append(scipy.stats.spearmanr(y, z)[0])\n",
    "    ps.append(scipy.stats.spearmanr(y, z)[1])\n",
    "\n",
    "liver_v_quad = framer.append(metabolites)\n",
    "liver_v_quad['SpearmanR'] = SpearmanR\n",
    "liver_v_quad['p'] = ps\n",
    "liver_v_quad = liver_v_quad.sort_values('p')\n",
    "liver_v_quad_sig = liver_v_quad[liver_v_quad['p'] < 0.05]\n",
    "liver_v_quad_sig['Tissue_Interaction'] = 'liver_v_quad'"
   ]
  },
  {
   "cell_type": "markdown",
   "metadata": {},
   "source": [
    "liver vs spleen"
   ]
  },
  {
   "cell_type": "code",
   "execution_count": 42,
   "metadata": {},
   "outputs": [
    {
     "name": "stderr",
     "output_type": "stream",
     "text": [
      "/var/folders/63/kvjwtxbn1hqfmqdmm3m1gg0r0000gn/T/ipykernel_93964/669767389.py:15: SettingWithCopyWarning: \n",
      "A value is trying to be set on a copy of a slice from a DataFrame.\n",
      "Try using .loc[row_indexer,col_indexer] = value instead\n",
      "\n",
      "See the caveats in the documentation: https://pandas.pydata.org/pandas-docs/stable/user_guide/indexing.html#returning-a-view-versus-a-copy\n",
      "  liver_v_spleen_sig['Tissue_Interaction'] = 'liver_v_spleen'\n"
     ]
    }
   ],
   "source": [
    "#Generate Spearman R and P Values for intertissue metabolites for all tissue interaction\n",
    "\n",
    "ps = []\n",
    "SpearmanR = []\n",
    "\n",
    "for x, y, z in zip(metabolites, liver_vals, spleen_vals):\n",
    "    SpearmanR.append(scipy.stats.spearmanr(y, z)[0])\n",
    "    ps.append(scipy.stats.spearmanr(y, z)[1])\n",
    "\n",
    "liver_v_spleen = framer.append(metabolites)\n",
    "liver_v_spleen['SpearmanR'] = SpearmanR\n",
    "liver_v_spleen['p'] = ps\n",
    "liver_v_spleen = liver_v_spleen.sort_values('p')\n",
    "liver_v_spleen_sig = liver_v_spleen[liver_v_spleen['p'] < 0.05]\n",
    "liver_v_spleen_sig['Tissue_Interaction'] = 'liver_v_spleen'"
   ]
  },
  {
   "cell_type": "markdown",
   "metadata": {},
   "source": [
    "lung vs quad"
   ]
  },
  {
   "cell_type": "code",
   "execution_count": 43,
   "metadata": {},
   "outputs": [
    {
     "name": "stderr",
     "output_type": "stream",
     "text": [
      "/var/folders/63/kvjwtxbn1hqfmqdmm3m1gg0r0000gn/T/ipykernel_93964/2824660445.py:15: SettingWithCopyWarning: \n",
      "A value is trying to be set on a copy of a slice from a DataFrame.\n",
      "Try using .loc[row_indexer,col_indexer] = value instead\n",
      "\n",
      "See the caveats in the documentation: https://pandas.pydata.org/pandas-docs/stable/user_guide/indexing.html#returning-a-view-versus-a-copy\n",
      "  lung_v_quad_sig['Tissue_Interaction'] = 'lung_v_quad'\n"
     ]
    }
   ],
   "source": [
    "#Generate Spearman R and P Values for intertissue metabolites for all tissue interaction\n",
    "\n",
    "ps = []\n",
    "SpearmanR = []\n",
    "\n",
    "for x, y, z in zip(metabolites, lung_vals, quad_vals):\n",
    "    SpearmanR.append(scipy.stats.spearmanr(y, z)[0])\n",
    "    ps.append(scipy.stats.spearmanr(y, z)[1])\n",
    "\n",
    "lung_v_quad = framer.append(metabolites)\n",
    "lung_v_quad['SpearmanR'] = SpearmanR\n",
    "lung_v_quad['p'] = ps\n",
    "lung_v_quad = lung_v_quad.sort_values('p')\n",
    "lung_v_quad_sig = lung_v_quad[lung_v_quad['p'] < 0.05]\n",
    "lung_v_quad_sig['Tissue_Interaction'] = 'lung_v_quad'"
   ]
  },
  {
   "cell_type": "markdown",
   "metadata": {},
   "source": [
    "lung vs spleen"
   ]
  },
  {
   "cell_type": "code",
   "execution_count": 44,
   "metadata": {},
   "outputs": [
    {
     "name": "stderr",
     "output_type": "stream",
     "text": [
      "/var/folders/63/kvjwtxbn1hqfmqdmm3m1gg0r0000gn/T/ipykernel_93964/2380173895.py:15: SettingWithCopyWarning: \n",
      "A value is trying to be set on a copy of a slice from a DataFrame.\n",
      "Try using .loc[row_indexer,col_indexer] = value instead\n",
      "\n",
      "See the caveats in the documentation: https://pandas.pydata.org/pandas-docs/stable/user_guide/indexing.html#returning-a-view-versus-a-copy\n",
      "  lung_v_spleen_sig['Tissue_Interaction'] = 'lung_v_spleen'\n"
     ]
    }
   ],
   "source": [
    "#Generate Spearman R and P Values for intertissue metabolites for all tissue interaction\n",
    "\n",
    "ps = []\n",
    "SpearmanR = []\n",
    "\n",
    "for x, y, z in zip(metabolites, lung_vals, spleen_vals):\n",
    "    SpearmanR.append(scipy.stats.spearmanr(y, z)[0])\n",
    "    ps.append(scipy.stats.spearmanr(y, z)[1])\n",
    "\n",
    "lung_v_spleen = framer.append(metabolites)\n",
    "lung_v_spleen['SpearmanR'] = SpearmanR\n",
    "lung_v_spleen['p'] = ps\n",
    "lung_v_spleen = lung_v_spleen.sort_values('p')\n",
    "lung_v_spleen_sig = lung_v_spleen[lung_v_spleen['p'] < 0.05]\n",
    "lung_v_spleen_sig['Tissue_Interaction'] = 'lung_v_spleen'"
   ]
  },
  {
   "cell_type": "markdown",
   "metadata": {},
   "source": [
    "quad vs spleen"
   ]
  },
  {
   "cell_type": "code",
   "execution_count": 45,
   "metadata": {},
   "outputs": [
    {
     "name": "stderr",
     "output_type": "stream",
     "text": [
      "/var/folders/63/kvjwtxbn1hqfmqdmm3m1gg0r0000gn/T/ipykernel_93964/1957829768.py:15: SettingWithCopyWarning: \n",
      "A value is trying to be set on a copy of a slice from a DataFrame.\n",
      "Try using .loc[row_indexer,col_indexer] = value instead\n",
      "\n",
      "See the caveats in the documentation: https://pandas.pydata.org/pandas-docs/stable/user_guide/indexing.html#returning-a-view-versus-a-copy\n",
      "  quad_v_spleen_sig['Tissue_Interaction'] = 'quad_v_spleen'\n"
     ]
    }
   ],
   "source": [
    "#Generate Spearman R and P Values for intertissue metabolites for all tissue interaction\n",
    "\n",
    "ps = []\n",
    "SpearmanR = []\n",
    "\n",
    "for x, y, z in zip(metabolites, quad_vals, spleen_vals):\n",
    "    SpearmanR.append(scipy.stats.spearmanr(y, z)[0])\n",
    "    ps.append(scipy.stats.spearmanr(y, z)[1])\n",
    "\n",
    "quad_v_spleen = framer.append(metabolites)\n",
    "quad_v_spleen['SpearmanR'] = SpearmanR\n",
    "quad_v_spleen['p'] = ps\n",
    "quad_v_spleen = quad_v_spleen.sort_values('p')\n",
    "quad_v_spleen_sig = quad_v_spleen[quad_v_spleen['p'] < 0.05]\n",
    "quad_v_spleen_sig['Tissue_Interaction'] = 'quad_v_spleen'"
   ]
  },
  {
   "cell_type": "code",
   "execution_count": 46,
   "metadata": {},
   "outputs": [
    {
     "data": {
      "text/html": [
       "<div>\n",
       "<style scoped>\n",
       "    .dataframe tbody tr th:only-of-type {\n",
       "        vertical-align: middle;\n",
       "    }\n",
       "\n",
       "    .dataframe tbody tr th {\n",
       "        vertical-align: top;\n",
       "    }\n",
       "\n",
       "    .dataframe thead th {\n",
       "        text-align: right;\n",
       "    }\n",
       "</style>\n",
       "<table border=\"1\" class=\"dataframe\">\n",
       "  <thead>\n",
       "    <tr style=\"text-align: right;\">\n",
       "      <th></th>\n",
       "      <th>0</th>\n",
       "      <th>SpearmanR</th>\n",
       "      <th>p</th>\n",
       "      <th>Tissue_Interaction</th>\n",
       "    </tr>\n",
       "  </thead>\n",
       "  <tbody>\n",
       "    <tr>\n",
       "      <th>34</th>\n",
       "      <td>leucine</td>\n",
       "      <td>1.000000</td>\n",
       "      <td>0.000000</td>\n",
       "      <td>wat_v_heart</td>\n",
       "    </tr>\n",
       "    <tr>\n",
       "      <th>48</th>\n",
       "      <td>proline</td>\n",
       "      <td>0.942857</td>\n",
       "      <td>0.004805</td>\n",
       "      <td>wat_v_heart</td>\n",
       "    </tr>\n",
       "    <tr>\n",
       "      <th>45</th>\n",
       "      <td>serine</td>\n",
       "      <td>0.942857</td>\n",
       "      <td>0.004805</td>\n",
       "      <td>wat_v_heart</td>\n",
       "    </tr>\n",
       "    <tr>\n",
       "      <th>44</th>\n",
       "      <td>alanine</td>\n",
       "      <td>0.942857</td>\n",
       "      <td>0.004805</td>\n",
       "      <td>wat_v_heart</td>\n",
       "    </tr>\n",
       "    <tr>\n",
       "      <th>10</th>\n",
       "      <td>ribose-5-phosphate</td>\n",
       "      <td>0.942857</td>\n",
       "      <td>0.004805</td>\n",
       "      <td>wat_v_heart</td>\n",
       "    </tr>\n",
       "    <tr>\n",
       "      <th>...</th>\n",
       "      <td>...</td>\n",
       "      <td>...</td>\n",
       "      <td>...</td>\n",
       "      <td>...</td>\n",
       "    </tr>\n",
       "    <tr>\n",
       "      <th>40</th>\n",
       "      <td>phenylalanine</td>\n",
       "      <td>0.942857</td>\n",
       "      <td>0.004805</td>\n",
       "      <td>quad_v_spleen</td>\n",
       "    </tr>\n",
       "    <tr>\n",
       "      <th>49</th>\n",
       "      <td>glutathione disulfide (GSSG)</td>\n",
       "      <td>-0.942857</td>\n",
       "      <td>0.004805</td>\n",
       "      <td>quad_v_spleen</td>\n",
       "    </tr>\n",
       "    <tr>\n",
       "      <th>7</th>\n",
       "      <td>lactate</td>\n",
       "      <td>0.828571</td>\n",
       "      <td>0.041563</td>\n",
       "      <td>quad_v_spleen</td>\n",
       "    </tr>\n",
       "    <tr>\n",
       "      <th>46</th>\n",
       "      <td>glycine</td>\n",
       "      <td>0.828571</td>\n",
       "      <td>0.041563</td>\n",
       "      <td>quad_v_spleen</td>\n",
       "    </tr>\n",
       "    <tr>\n",
       "      <th>29</th>\n",
       "      <td>valine</td>\n",
       "      <td>0.828571</td>\n",
       "      <td>0.041563</td>\n",
       "      <td>quad_v_spleen</td>\n",
       "    </tr>\n",
       "  </tbody>\n",
       "</table>\n",
       "<p>159 rows × 4 columns</p>\n",
       "</div>"
      ],
      "text/plain": [
       "                               0  SpearmanR         p Tissue_Interaction\n",
       "34                       leucine   1.000000  0.000000        wat_v_heart\n",
       "48                       proline   0.942857  0.004805        wat_v_heart\n",
       "45                        serine   0.942857  0.004805        wat_v_heart\n",
       "44                       alanine   0.942857  0.004805        wat_v_heart\n",
       "10            ribose-5-phosphate   0.942857  0.004805        wat_v_heart\n",
       "..                           ...        ...       ...                ...\n",
       "40                 phenylalanine   0.942857  0.004805      quad_v_spleen\n",
       "49  glutathione disulfide (GSSG)  -0.942857  0.004805      quad_v_spleen\n",
       "7                        lactate   0.828571  0.041563      quad_v_spleen\n",
       "46                       glycine   0.828571  0.041563      quad_v_spleen\n",
       "29                        valine   0.828571  0.041563      quad_v_spleen\n",
       "\n",
       "[159 rows x 4 columns]"
      ]
     },
     "execution_count": 46,
     "metadata": {},
     "output_type": "execute_result"
    }
   ],
   "source": [
    "masterinteractions_CLP = pd.concat([wat_v_heart_sig, wat_v_kidney_sig, wat_v_liver_sig, wat_v_lung_sig, wat_v_quad_sig, wat_v_spleen_sig, heart_v_kidney_sig, heart_v_liver_sig, heart_v_lung_sig, heart_v_quad_sig, heart_v_spleen_sig, kidney_v_liver_sig, kidney_v_lung_sig, kidney_v_quad_sig, kidney_v_spleen_sig, liver_v_lung_sig, liver_v_quad_sig, liver_v_spleen_sig, lung_v_quad_sig, lung_v_spleen_sig, quad_v_spleen_sig])\n",
    "masterinteractions_CLP"
   ]
  },
  {
   "cell_type": "markdown",
   "metadata": {},
   "source": [
    "Making a csv file for import into R Jupyter notebook to run Chord plot\n",
    "Will use spearman p value cutoff of 0.05\n",
    "\n",
    "Columns: TissueA | Tissue B | Negative Corr | Positive Corr | Total Corrs\n"
   ]
  },
  {
   "cell_type": "markdown",
   "metadata": {},
   "source": [
    "# Same Analysis for Sham"
   ]
  },
  {
   "cell_type": "code",
   "execution_count": 52,
   "metadata": {},
   "outputs": [],
   "source": [
    "eWAT_sham_df = sham_tissue_pool[sham_tissue_pool['Tissue'] == str(tissues[0])].iloc[:, :-2].transpose()\n",
    "Heart_sham_df = sham_tissue_pool[sham_tissue_pool['Tissue'] == str(tissues[1])].iloc[:, :-2].transpose()\n",
    "Kidney_sham_df = sham_tissue_pool[sham_tissue_pool['Tissue'] == str(tissues[2])].iloc[:, :-2].transpose()\n",
    "Liver_sham_df = sham_tissue_pool[sham_tissue_pool['Tissue'] == str(tissues[3])].iloc[:, :-2].transpose()\n",
    "Lung_sham_df = sham_tissue_pool[sham_tissue_pool['Tissue'] == str(tissues[4])].iloc[:, :-2].transpose()\n",
    "Quad_sham_df = sham_tissue_pool[sham_tissue_pool['Tissue'] == str(tissues[5])].iloc[:, :-2].transpose()\n",
    "Spleen_sham_df = sham_tissue_pool[sham_tissue_pool['Tissue'] == str(tissues[6])].iloc[:, :-2].transpose()"
   ]
  },
  {
   "cell_type": "code",
   "execution_count": 53,
   "metadata": {},
   "outputs": [],
   "source": [
    "#Get list of metabolites from any of the dataframes\n",
    "\n",
    "metabolites = eWAT_sham_df.index.tolist()"
   ]
  },
  {
   "cell_type": "code",
   "execution_count": 54,
   "metadata": {},
   "outputs": [],
   "source": [
    "#Obtain values from each dataframe to run statistics\n",
    "\n",
    "wat_vals = eWAT_sham_df.values.tolist()\n",
    "heart_vals = Heart_sham_df.values.tolist()\n",
    "kidney_vals = Kidney_sham_df.values.tolist()\n",
    "liver_vals = Liver_sham_df.values.tolist()\n",
    "lung_vals = Lung_sham_df.values.tolist()\n",
    "quad_vals = Quad_sham_df.values.tolist()\n",
    "spleen_vals = Spleen_sham_df.values.tolist()"
   ]
  },
  {
   "cell_type": "markdown",
   "metadata": {},
   "source": [
    "21 Comparisons\n",
    "\n",
    "WAT vs. Heart"
   ]
  },
  {
   "cell_type": "code",
   "execution_count": 55,
   "metadata": {},
   "outputs": [
    {
     "name": "stderr",
     "output_type": "stream",
     "text": [
      "/var/folders/63/kvjwtxbn1hqfmqdmm3m1gg0r0000gn/T/ipykernel_93964/870657794.py:16: SettingWithCopyWarning: \n",
      "A value is trying to be set on a copy of a slice from a DataFrame.\n",
      "Try using .loc[row_indexer,col_indexer] = value instead\n",
      "\n",
      "See the caveats in the documentation: https://pandas.pydata.org/pandas-docs/stable/user_guide/indexing.html#returning-a-view-versus-a-copy\n",
      "  wat_v_heart_sig['Tissue_Interaction'] = 'wat_v_heart'\n"
     ]
    }
   ],
   "source": [
    "#Generate Spearman R and P Values for intertissue metabolites for all tissue interaction\n",
    "\n",
    "ps = []\n",
    "SpearmanR = []\n",
    "\n",
    "for x, y, z in zip(metabolites, wat_vals, heart_vals):\n",
    "    SpearmanR.append(scipy.stats.spearmanr(y, z)[0])\n",
    "    ps.append(scipy.stats.spearmanr(y, z)[1])\n",
    "\n",
    "wat_v_heart = framer.append(metabolites)\n",
    "wat_v_heart['SpearmanR'] = SpearmanR\n",
    "wat_v_heart['p'] = ps\n",
    "\n",
    "wat_v_heart = wat_v_heart.sort_values('p')\n",
    "wat_v_heart_sig = wat_v_heart[wat_v_heart['p'] < 0.05]\n",
    "wat_v_heart_sig['Tissue_Interaction'] = 'wat_v_heart'\n"
   ]
  },
  {
   "cell_type": "markdown",
   "metadata": {},
   "source": [
    "WAT vs Kidney"
   ]
  },
  {
   "cell_type": "code",
   "execution_count": 56,
   "metadata": {},
   "outputs": [
    {
     "name": "stderr",
     "output_type": "stream",
     "text": [
      "/var/folders/63/kvjwtxbn1hqfmqdmm3m1gg0r0000gn/T/ipykernel_93964/473348795.py:15: SettingWithCopyWarning: \n",
      "A value is trying to be set on a copy of a slice from a DataFrame.\n",
      "Try using .loc[row_indexer,col_indexer] = value instead\n",
      "\n",
      "See the caveats in the documentation: https://pandas.pydata.org/pandas-docs/stable/user_guide/indexing.html#returning-a-view-versus-a-copy\n",
      "  wat_v_kidney_sig['Tissue_Interaction'] = 'wat_v_kidney'\n"
     ]
    }
   ],
   "source": [
    "#Generate Spearman R and P Values for intertissue metabolites for all tissue interaction\n",
    "\n",
    "ps = []\n",
    "SpearmanR = []\n",
    "\n",
    "for x, y, z in zip(metabolites, wat_vals, kidney_vals):\n",
    "    SpearmanR.append(scipy.stats.spearmanr(y, z)[0])\n",
    "    ps.append(scipy.stats.spearmanr(y, z)[1])\n",
    "\n",
    "wat_v_kidney = framer.append(metabolites)\n",
    "wat_v_kidney['SpearmanR'] = SpearmanR\n",
    "wat_v_kidney['p'] = ps\n",
    "wat_v_kidney = wat_v_kidney.sort_values('p')\n",
    "wat_v_kidney_sig = wat_v_kidney[wat_v_kidney['p'] < 0.05]\n",
    "wat_v_kidney_sig['Tissue_Interaction'] = 'wat_v_kidney'"
   ]
  },
  {
   "cell_type": "markdown",
   "metadata": {},
   "source": [
    "wat vs liver"
   ]
  },
  {
   "cell_type": "code",
   "execution_count": 57,
   "metadata": {},
   "outputs": [
    {
     "name": "stderr",
     "output_type": "stream",
     "text": [
      "/var/folders/63/kvjwtxbn1hqfmqdmm3m1gg0r0000gn/T/ipykernel_93964/2326900675.py:15: SettingWithCopyWarning: \n",
      "A value is trying to be set on a copy of a slice from a DataFrame.\n",
      "Try using .loc[row_indexer,col_indexer] = value instead\n",
      "\n",
      "See the caveats in the documentation: https://pandas.pydata.org/pandas-docs/stable/user_guide/indexing.html#returning-a-view-versus-a-copy\n",
      "  wat_v_liver_sig['Tissue_Interaction'] = 'wat_v_liver'\n"
     ]
    }
   ],
   "source": [
    "#Generate Spearman R and P Values for intertissue metabolites for all tissue interaction\n",
    "\n",
    "ps = []\n",
    "SpearmanR = []\n",
    "\n",
    "for x, y, z in zip(metabolites, wat_vals, liver_vals):\n",
    "    SpearmanR.append(scipy.stats.spearmanr(y, z)[0])\n",
    "    ps.append(scipy.stats.spearmanr(y, z)[1])\n",
    "\n",
    "wat_v_liver = framer.append(metabolites)\n",
    "wat_v_liver['SpearmanR'] = SpearmanR\n",
    "wat_v_liver['p'] = ps\n",
    "wat_v_liver = wat_v_liver.sort_values('p')\n",
    "wat_v_liver_sig = wat_v_liver[wat_v_liver['p'] < 0.05]\n",
    "wat_v_liver_sig['Tissue_Interaction'] = 'wat_v_liver'"
   ]
  },
  {
   "cell_type": "markdown",
   "metadata": {},
   "source": [
    "wat vs lung"
   ]
  },
  {
   "cell_type": "code",
   "execution_count": 58,
   "metadata": {},
   "outputs": [
    {
     "name": "stderr",
     "output_type": "stream",
     "text": [
      "/var/folders/63/kvjwtxbn1hqfmqdmm3m1gg0r0000gn/T/ipykernel_93964/1309243148.py:15: SettingWithCopyWarning: \n",
      "A value is trying to be set on a copy of a slice from a DataFrame.\n",
      "Try using .loc[row_indexer,col_indexer] = value instead\n",
      "\n",
      "See the caveats in the documentation: https://pandas.pydata.org/pandas-docs/stable/user_guide/indexing.html#returning-a-view-versus-a-copy\n",
      "  wat_v_lung_sig['Tissue_Interaction'] = 'wat_v_lung'\n"
     ]
    }
   ],
   "source": [
    "#Generate Spearman R and P Values for intertissue metabolites for all tissue interaction\n",
    "\n",
    "ps = []\n",
    "SpearmanR = []\n",
    "\n",
    "for x, y, z in zip(metabolites, wat_vals, lung_vals):\n",
    "    SpearmanR.append(scipy.stats.spearmanr(y, z)[0])\n",
    "    ps.append(scipy.stats.spearmanr(y, z)[1])\n",
    "\n",
    "wat_v_lung = framer.append(metabolites)\n",
    "wat_v_lung['SpearmanR'] = SpearmanR\n",
    "wat_v_lung['p'] = ps\n",
    "wat_v_lung = wat_v_lung.sort_values('p')\n",
    "wat_v_lung_sig = wat_v_lung[wat_v_lung['p'] < 0.05]\n",
    "wat_v_lung_sig['Tissue_Interaction'] = 'wat_v_lung'"
   ]
  },
  {
   "cell_type": "markdown",
   "metadata": {},
   "source": [
    "wat vs quad"
   ]
  },
  {
   "cell_type": "code",
   "execution_count": 59,
   "metadata": {},
   "outputs": [
    {
     "name": "stderr",
     "output_type": "stream",
     "text": [
      "/var/folders/63/kvjwtxbn1hqfmqdmm3m1gg0r0000gn/T/ipykernel_93964/2371657360.py:15: SettingWithCopyWarning: \n",
      "A value is trying to be set on a copy of a slice from a DataFrame.\n",
      "Try using .loc[row_indexer,col_indexer] = value instead\n",
      "\n",
      "See the caveats in the documentation: https://pandas.pydata.org/pandas-docs/stable/user_guide/indexing.html#returning-a-view-versus-a-copy\n",
      "  wat_v_quad_sig['Tissue_Interaction'] = 'wat_v_quad'\n"
     ]
    }
   ],
   "source": [
    "#Generate Spearman R and P Values for intertissue metabolites for all tissue interaction\n",
    "\n",
    "ps = []\n",
    "SpearmanR = []\n",
    "\n",
    "for x, y, z in zip(metabolites, wat_vals, quad_vals):\n",
    "    SpearmanR.append(scipy.stats.spearmanr(y, z)[0])\n",
    "    ps.append(scipy.stats.spearmanr(y, z)[1])\n",
    "\n",
    "wat_v_quad = framer.append(metabolites)\n",
    "wat_v_quad['SpearmanR'] = SpearmanR\n",
    "wat_v_quad['p'] = ps\n",
    "wat_v_quad = wat_v_quad.sort_values('p')\n",
    "wat_v_quad_sig = wat_v_quad[wat_v_quad['p'] < 0.05]\n",
    "wat_v_quad_sig['Tissue_Interaction'] = 'wat_v_quad'"
   ]
  },
  {
   "cell_type": "markdown",
   "metadata": {},
   "source": [
    "wat vs spleen"
   ]
  },
  {
   "cell_type": "code",
   "execution_count": 60,
   "metadata": {},
   "outputs": [
    {
     "name": "stderr",
     "output_type": "stream",
     "text": [
      "/var/folders/63/kvjwtxbn1hqfmqdmm3m1gg0r0000gn/T/ipykernel_93964/2848441415.py:15: SettingWithCopyWarning: \n",
      "A value is trying to be set on a copy of a slice from a DataFrame.\n",
      "Try using .loc[row_indexer,col_indexer] = value instead\n",
      "\n",
      "See the caveats in the documentation: https://pandas.pydata.org/pandas-docs/stable/user_guide/indexing.html#returning-a-view-versus-a-copy\n",
      "  wat_v_spleen_sig['Tissue_Interaction'] = 'wat_v_spleen'\n"
     ]
    }
   ],
   "source": [
    "#Generate Spearman R and P Values for intertissue metabolites for all tissue interaction\n",
    "\n",
    "ps = []\n",
    "SpearmanR = []\n",
    "\n",
    "for x, y, z in zip(metabolites, wat_vals, spleen_vals):\n",
    "    SpearmanR.append(scipy.stats.spearmanr(y, z)[0])\n",
    "    ps.append(scipy.stats.spearmanr(y, z)[1])\n",
    "\n",
    "wat_v_spleen = framer.append(metabolites)\n",
    "wat_v_spleen['SpearmanR'] = SpearmanR\n",
    "wat_v_spleen['p'] = ps\n",
    "wat_v_spleen = wat_v_spleen.sort_values('p')\n",
    "wat_v_spleen_sig = wat_v_spleen[wat_v_spleen['p'] < 0.05]\n",
    "wat_v_spleen_sig['Tissue_Interaction'] = 'wat_v_spleen'"
   ]
  },
  {
   "cell_type": "markdown",
   "metadata": {},
   "source": [
    "heart vs kidney"
   ]
  },
  {
   "cell_type": "code",
   "execution_count": 61,
   "metadata": {},
   "outputs": [
    {
     "name": "stderr",
     "output_type": "stream",
     "text": [
      "/var/folders/63/kvjwtxbn1hqfmqdmm3m1gg0r0000gn/T/ipykernel_93964/3643927312.py:15: SettingWithCopyWarning: \n",
      "A value is trying to be set on a copy of a slice from a DataFrame.\n",
      "Try using .loc[row_indexer,col_indexer] = value instead\n",
      "\n",
      "See the caveats in the documentation: https://pandas.pydata.org/pandas-docs/stable/user_guide/indexing.html#returning-a-view-versus-a-copy\n",
      "  heart_v_kidney_sig['Tissue_Interaction'] = 'heart_v_kidney'\n"
     ]
    }
   ],
   "source": [
    "#Generate Spearman R and P Values for intertissue metabolites for all tissue interaction\n",
    "\n",
    "ps = []\n",
    "SpearmanR = []\n",
    "\n",
    "for x, y, z in zip(metabolites, heart_vals, kidney_vals):\n",
    "    SpearmanR.append(scipy.stats.spearmanr(y, z)[0])\n",
    "    ps.append(scipy.stats.spearmanr(y, z)[1])\n",
    "\n",
    "heart_v_kidney = framer.append(metabolites)\n",
    "heart_v_kidney['SpearmanR'] = SpearmanR\n",
    "heart_v_kidney['p'] = ps\n",
    "heart_v_kidney = heart_v_kidney.sort_values('p')\n",
    "heart_v_kidney_sig = heart_v_kidney[heart_v_kidney['p'] < 0.05]\n",
    "heart_v_kidney_sig['Tissue_Interaction'] = 'heart_v_kidney'"
   ]
  },
  {
   "cell_type": "markdown",
   "metadata": {},
   "source": [
    "heart vs liver"
   ]
  },
  {
   "cell_type": "code",
   "execution_count": 62,
   "metadata": {},
   "outputs": [
    {
     "name": "stderr",
     "output_type": "stream",
     "text": [
      "/var/folders/63/kvjwtxbn1hqfmqdmm3m1gg0r0000gn/T/ipykernel_93964/869855609.py:15: SettingWithCopyWarning: \n",
      "A value is trying to be set on a copy of a slice from a DataFrame.\n",
      "Try using .loc[row_indexer,col_indexer] = value instead\n",
      "\n",
      "See the caveats in the documentation: https://pandas.pydata.org/pandas-docs/stable/user_guide/indexing.html#returning-a-view-versus-a-copy\n",
      "  heart_v_liver_sig['Tissue_Interaction'] = 'heart_v_liver'\n"
     ]
    }
   ],
   "source": [
    "#Generate Spearman R and P Values for intertissue metabolites for all tissue interaction\n",
    "\n",
    "ps = []\n",
    "SpearmanR = []\n",
    "\n",
    "for x, y, z in zip(metabolites, heart_vals, liver_vals):\n",
    "    SpearmanR.append(scipy.stats.spearmanr(y, z)[0])\n",
    "    ps.append(scipy.stats.spearmanr(y, z)[1])\n",
    "\n",
    "heart_v_liver = framer.append(metabolites)\n",
    "heart_v_liver['SpearmanR'] = SpearmanR\n",
    "heart_v_liver['p'] = ps\n",
    "heart_v_liver = heart_v_liver.sort_values('p')\n",
    "heart_v_liver_sig = heart_v_liver[heart_v_liver['p'] < 0.05]\n",
    "heart_v_liver_sig['Tissue_Interaction'] = 'heart_v_liver'"
   ]
  },
  {
   "cell_type": "markdown",
   "metadata": {},
   "source": [
    "heart vs lung"
   ]
  },
  {
   "cell_type": "code",
   "execution_count": 63,
   "metadata": {},
   "outputs": [
    {
     "name": "stderr",
     "output_type": "stream",
     "text": [
      "/var/folders/63/kvjwtxbn1hqfmqdmm3m1gg0r0000gn/T/ipykernel_93964/3891727752.py:15: SettingWithCopyWarning: \n",
      "A value is trying to be set on a copy of a slice from a DataFrame.\n",
      "Try using .loc[row_indexer,col_indexer] = value instead\n",
      "\n",
      "See the caveats in the documentation: https://pandas.pydata.org/pandas-docs/stable/user_guide/indexing.html#returning-a-view-versus-a-copy\n",
      "  heart_v_lung_sig['Tissue_Interaction'] = 'heart_v_lung'\n"
     ]
    }
   ],
   "source": [
    "#Generate Spearman R and P Values for intertissue metabolites for all tissue interaction\n",
    "\n",
    "ps = []\n",
    "SpearmanR = []\n",
    "\n",
    "for x, y, z in zip(metabolites, heart_vals, lung_vals):\n",
    "    SpearmanR.append(scipy.stats.spearmanr(y, z)[0])\n",
    "    ps.append(scipy.stats.spearmanr(y, z)[1])\n",
    "\n",
    "heart_v_lung = framer.append(metabolites)\n",
    "heart_v_lung['SpearmanR'] = SpearmanR\n",
    "heart_v_lung['p'] = ps\n",
    "heart_v_lung = heart_v_lung.sort_values('p')\n",
    "heart_v_lung_sig = heart_v_lung[heart_v_lung['p'] < 0.05]\n",
    "heart_v_lung_sig['Tissue_Interaction'] = 'heart_v_lung'"
   ]
  },
  {
   "cell_type": "markdown",
   "metadata": {},
   "source": [
    "heart vs quad"
   ]
  },
  {
   "cell_type": "code",
   "execution_count": 64,
   "metadata": {},
   "outputs": [
    {
     "name": "stderr",
     "output_type": "stream",
     "text": [
      "/var/folders/63/kvjwtxbn1hqfmqdmm3m1gg0r0000gn/T/ipykernel_93964/633119832.py:15: SettingWithCopyWarning: \n",
      "A value is trying to be set on a copy of a slice from a DataFrame.\n",
      "Try using .loc[row_indexer,col_indexer] = value instead\n",
      "\n",
      "See the caveats in the documentation: https://pandas.pydata.org/pandas-docs/stable/user_guide/indexing.html#returning-a-view-versus-a-copy\n",
      "  heart_v_quad_sig['Tissue_Interaction'] = 'heart_v_quad'\n"
     ]
    }
   ],
   "source": [
    "#Generate Spearman R and P Values for intertissue metabolites for all tissue interaction\n",
    "\n",
    "ps = []\n",
    "SpearmanR = []\n",
    "\n",
    "for x, y, z in zip(metabolites, heart_vals, quad_vals):\n",
    "    SpearmanR.append(scipy.stats.spearmanr(y, z)[0])\n",
    "    ps.append(scipy.stats.spearmanr(y, z)[1])\n",
    "\n",
    "heart_v_quad = framer.append(metabolites)\n",
    "heart_v_quad['SpearmanR'] = SpearmanR\n",
    "heart_v_quad['p'] = ps\n",
    "heart_v_quad = heart_v_quad.sort_values('p')\n",
    "heart_v_quad_sig = heart_v_quad[heart_v_quad['p'] < 0.05]\n",
    "heart_v_quad_sig['Tissue_Interaction'] = 'heart_v_quad'"
   ]
  },
  {
   "cell_type": "markdown",
   "metadata": {},
   "source": [
    "heart vs spleen"
   ]
  },
  {
   "cell_type": "code",
   "execution_count": 65,
   "metadata": {},
   "outputs": [
    {
     "name": "stderr",
     "output_type": "stream",
     "text": [
      "/var/folders/63/kvjwtxbn1hqfmqdmm3m1gg0r0000gn/T/ipykernel_93964/1919823672.py:15: SettingWithCopyWarning: \n",
      "A value is trying to be set on a copy of a slice from a DataFrame.\n",
      "Try using .loc[row_indexer,col_indexer] = value instead\n",
      "\n",
      "See the caveats in the documentation: https://pandas.pydata.org/pandas-docs/stable/user_guide/indexing.html#returning-a-view-versus-a-copy\n",
      "  heart_v_spleen_sig['Tissue_Interaction'] = 'heart_v_spleen'\n"
     ]
    }
   ],
   "source": [
    "#Generate Spearman R and P Values for intertissue metabolites for all tissue interaction\n",
    "\n",
    "ps = []\n",
    "SpearmanR = []\n",
    "\n",
    "for x, y, z in zip(metabolites, heart_vals, spleen_vals):\n",
    "    SpearmanR.append(scipy.stats.spearmanr(y, z)[0])\n",
    "    ps.append(scipy.stats.spearmanr(y, z)[1])\n",
    "\n",
    "heart_v_spleen = framer.append(metabolites)\n",
    "heart_v_spleen['SpearmanR'] = SpearmanR\n",
    "heart_v_spleen['p'] = ps\n",
    "heart_v_spleen = heart_v_spleen.sort_values('p')\n",
    "heart_v_spleen_sig = heart_v_spleen[heart_v_spleen['p'] < 0.05]\n",
    "heart_v_spleen_sig['Tissue_Interaction'] = 'heart_v_spleen'"
   ]
  },
  {
   "cell_type": "markdown",
   "metadata": {},
   "source": [
    "kidney vs liver"
   ]
  },
  {
   "cell_type": "code",
   "execution_count": 66,
   "metadata": {},
   "outputs": [
    {
     "name": "stderr",
     "output_type": "stream",
     "text": [
      "/var/folders/63/kvjwtxbn1hqfmqdmm3m1gg0r0000gn/T/ipykernel_93964/2633811498.py:15: SettingWithCopyWarning: \n",
      "A value is trying to be set on a copy of a slice from a DataFrame.\n",
      "Try using .loc[row_indexer,col_indexer] = value instead\n",
      "\n",
      "See the caveats in the documentation: https://pandas.pydata.org/pandas-docs/stable/user_guide/indexing.html#returning-a-view-versus-a-copy\n",
      "  kidney_v_liver_sig['Tissue_Interaction'] = 'kidney_v_liver'\n"
     ]
    }
   ],
   "source": [
    "#Generate Spearman R and P Values for intertissue metabolites for all tissue interaction\n",
    "\n",
    "ps = []\n",
    "SpearmanR = []\n",
    "\n",
    "for x, y, z in zip(metabolites, kidney_vals, liver_vals):\n",
    "    SpearmanR.append(scipy.stats.spearmanr(y, z)[0])\n",
    "    ps.append(scipy.stats.spearmanr(y, z)[1])\n",
    "\n",
    "kidney_v_liver = framer.append(metabolites)\n",
    "kidney_v_liver['SpearmanR'] = SpearmanR\n",
    "kidney_v_liver['p'] = ps\n",
    "kidney_v_liver = kidney_v_liver.sort_values('p')\n",
    "kidney_v_liver_sig = kidney_v_liver[kidney_v_liver['p'] < 0.05]\n",
    "kidney_v_liver_sig['Tissue_Interaction'] = 'kidney_v_liver'"
   ]
  },
  {
   "cell_type": "markdown",
   "metadata": {},
   "source": [
    "kidney vs lung"
   ]
  },
  {
   "cell_type": "code",
   "execution_count": 67,
   "metadata": {},
   "outputs": [
    {
     "name": "stderr",
     "output_type": "stream",
     "text": [
      "/var/folders/63/kvjwtxbn1hqfmqdmm3m1gg0r0000gn/T/ipykernel_93964/1660952768.py:15: SettingWithCopyWarning: \n",
      "A value is trying to be set on a copy of a slice from a DataFrame.\n",
      "Try using .loc[row_indexer,col_indexer] = value instead\n",
      "\n",
      "See the caveats in the documentation: https://pandas.pydata.org/pandas-docs/stable/user_guide/indexing.html#returning-a-view-versus-a-copy\n",
      "  kidney_v_lung_sig['Tissue_Interaction'] = 'kidney_v_lung'\n"
     ]
    }
   ],
   "source": [
    "#Generate Spearman R and P Values for intertissue metabolites for all tissue interaction\n",
    "\n",
    "ps = []\n",
    "SpearmanR = []\n",
    "\n",
    "for x, y, z in zip(metabolites, kidney_vals, lung_vals):\n",
    "    SpearmanR.append(scipy.stats.spearmanr(y, z)[0])\n",
    "    ps.append(scipy.stats.spearmanr(y, z)[1])\n",
    "\n",
    "kidney_v_lung = framer.append(metabolites)\n",
    "kidney_v_lung['SpearmanR'] = SpearmanR\n",
    "kidney_v_lung['p'] = ps\n",
    "kidney_v_lung = kidney_v_lung.sort_values('p')\n",
    "kidney_v_lung_sig = kidney_v_lung[kidney_v_lung['p'] < 0.05]\n",
    "kidney_v_lung_sig['Tissue_Interaction'] = 'kidney_v_lung'"
   ]
  },
  {
   "cell_type": "markdown",
   "metadata": {},
   "source": [
    "kidney vs quad"
   ]
  },
  {
   "cell_type": "code",
   "execution_count": 68,
   "metadata": {},
   "outputs": [
    {
     "name": "stderr",
     "output_type": "stream",
     "text": [
      "/var/folders/63/kvjwtxbn1hqfmqdmm3m1gg0r0000gn/T/ipykernel_93964/469064408.py:15: SettingWithCopyWarning: \n",
      "A value is trying to be set on a copy of a slice from a DataFrame.\n",
      "Try using .loc[row_indexer,col_indexer] = value instead\n",
      "\n",
      "See the caveats in the documentation: https://pandas.pydata.org/pandas-docs/stable/user_guide/indexing.html#returning-a-view-versus-a-copy\n",
      "  kidney_v_quad_sig['Tissue_Interaction'] = 'kidney_v_quad'\n"
     ]
    }
   ],
   "source": [
    "#Generate Spearman R and P Values for intertissue metabolites for all tissue interaction\n",
    "\n",
    "ps = []\n",
    "SpearmanR = []\n",
    "\n",
    "for x, y, z in zip(metabolites, kidney_vals, quad_vals):\n",
    "    SpearmanR.append(scipy.stats.spearmanr(y, z)[0])\n",
    "    ps.append(scipy.stats.spearmanr(y, z)[1])\n",
    "\n",
    "kidney_v_quad = framer.append(metabolites)\n",
    "kidney_v_quad['SpearmanR'] = SpearmanR\n",
    "kidney_v_quad['p'] = ps\n",
    "kidney_v_quad = kidney_v_quad.sort_values('p')\n",
    "kidney_v_quad_sig = kidney_v_quad[kidney_v_quad['p'] < 0.05]\n",
    "kidney_v_quad_sig['Tissue_Interaction'] = 'kidney_v_quad'"
   ]
  },
  {
   "cell_type": "markdown",
   "metadata": {},
   "source": [
    "kidney vs spleen"
   ]
  },
  {
   "cell_type": "code",
   "execution_count": 69,
   "metadata": {},
   "outputs": [
    {
     "name": "stderr",
     "output_type": "stream",
     "text": [
      "/var/folders/63/kvjwtxbn1hqfmqdmm3m1gg0r0000gn/T/ipykernel_93964/4205852332.py:15: SettingWithCopyWarning: \n",
      "A value is trying to be set on a copy of a slice from a DataFrame.\n",
      "Try using .loc[row_indexer,col_indexer] = value instead\n",
      "\n",
      "See the caveats in the documentation: https://pandas.pydata.org/pandas-docs/stable/user_guide/indexing.html#returning-a-view-versus-a-copy\n",
      "  kidney_v_spleen_sig['Tissue_Interaction'] = 'kidney_v_spleen'\n"
     ]
    }
   ],
   "source": [
    "#Generate Spearman R and P Values for intertissue metabolites for all tissue interaction\n",
    "\n",
    "ps = []\n",
    "SpearmanR = []\n",
    "\n",
    "for x, y, z in zip(metabolites, kidney_vals, spleen_vals):\n",
    "    SpearmanR.append(scipy.stats.spearmanr(y, z)[0])\n",
    "    ps.append(scipy.stats.spearmanr(y, z)[1])\n",
    "\n",
    "kidney_v_spleen = framer.append(metabolites)\n",
    "kidney_v_spleen['SpearmanR'] = SpearmanR\n",
    "kidney_v_spleen['p'] = ps\n",
    "kidney_v_spleen = kidney_v_spleen.sort_values('p')\n",
    "kidney_v_spleen_sig = kidney_v_spleen[kidney_v_spleen['p'] < 0.05]\n",
    "kidney_v_spleen_sig['Tissue_Interaction'] = 'kidney_v_spleen'"
   ]
  },
  {
   "cell_type": "markdown",
   "metadata": {},
   "source": [
    "liver vs lung"
   ]
  },
  {
   "cell_type": "code",
   "execution_count": 70,
   "metadata": {},
   "outputs": [
    {
     "name": "stderr",
     "output_type": "stream",
     "text": [
      "/var/folders/63/kvjwtxbn1hqfmqdmm3m1gg0r0000gn/T/ipykernel_93964/3550170202.py:15: SettingWithCopyWarning: \n",
      "A value is trying to be set on a copy of a slice from a DataFrame.\n",
      "Try using .loc[row_indexer,col_indexer] = value instead\n",
      "\n",
      "See the caveats in the documentation: https://pandas.pydata.org/pandas-docs/stable/user_guide/indexing.html#returning-a-view-versus-a-copy\n",
      "  liver_v_lung_sig['Tissue_Interaction'] = 'liver_v_lung'\n"
     ]
    }
   ],
   "source": [
    "#Generate Spearman R and P Values for intertissue metabolites for all tissue interaction\n",
    "\n",
    "ps = []\n",
    "SpearmanR = []\n",
    "\n",
    "for x, y, z in zip(metabolites, liver_vals, lung_vals):\n",
    "    SpearmanR.append(scipy.stats.spearmanr(y, z)[0])\n",
    "    ps.append(scipy.stats.spearmanr(y, z)[1])\n",
    "\n",
    "liver_v_lung = framer.append(metabolites)\n",
    "liver_v_lung['SpearmanR'] = SpearmanR\n",
    "liver_v_lung['p'] = ps\n",
    "liver_v_lung = liver_v_lung.sort_values('p')\n",
    "liver_v_lung_sig = liver_v_lung[liver_v_lung['p'] < 0.05]\n",
    "liver_v_lung_sig['Tissue_Interaction'] = 'liver_v_lung'"
   ]
  },
  {
   "cell_type": "markdown",
   "metadata": {},
   "source": [
    "liver vs quad"
   ]
  },
  {
   "cell_type": "code",
   "execution_count": 71,
   "metadata": {},
   "outputs": [
    {
     "name": "stderr",
     "output_type": "stream",
     "text": [
      "/var/folders/63/kvjwtxbn1hqfmqdmm3m1gg0r0000gn/T/ipykernel_93964/3680036043.py:15: SettingWithCopyWarning: \n",
      "A value is trying to be set on a copy of a slice from a DataFrame.\n",
      "Try using .loc[row_indexer,col_indexer] = value instead\n",
      "\n",
      "See the caveats in the documentation: https://pandas.pydata.org/pandas-docs/stable/user_guide/indexing.html#returning-a-view-versus-a-copy\n",
      "  liver_v_quad_sig['Tissue_Interaction'] = 'liver_v_quad'\n"
     ]
    }
   ],
   "source": [
    "#Generate Spearman R and P Values for intertissue metabolites for all tissue interaction\n",
    "\n",
    "ps = []\n",
    "SpearmanR = []\n",
    "\n",
    "for x, y, z in zip(metabolites, liver_vals, quad_vals):\n",
    "    SpearmanR.append(scipy.stats.spearmanr(y, z)[0])\n",
    "    ps.append(scipy.stats.spearmanr(y, z)[1])\n",
    "\n",
    "liver_v_quad = framer.append(metabolites)\n",
    "liver_v_quad['SpearmanR'] = SpearmanR\n",
    "liver_v_quad['p'] = ps\n",
    "liver_v_quad = liver_v_quad.sort_values('p')\n",
    "liver_v_quad_sig = liver_v_quad[liver_v_quad['p'] < 0.05]\n",
    "liver_v_quad_sig['Tissue_Interaction'] = 'liver_v_quad'"
   ]
  },
  {
   "cell_type": "markdown",
   "metadata": {},
   "source": [
    "liver vs spleen"
   ]
  },
  {
   "cell_type": "code",
   "execution_count": 72,
   "metadata": {},
   "outputs": [
    {
     "name": "stderr",
     "output_type": "stream",
     "text": [
      "/var/folders/63/kvjwtxbn1hqfmqdmm3m1gg0r0000gn/T/ipykernel_93964/669767389.py:15: SettingWithCopyWarning: \n",
      "A value is trying to be set on a copy of a slice from a DataFrame.\n",
      "Try using .loc[row_indexer,col_indexer] = value instead\n",
      "\n",
      "See the caveats in the documentation: https://pandas.pydata.org/pandas-docs/stable/user_guide/indexing.html#returning-a-view-versus-a-copy\n",
      "  liver_v_spleen_sig['Tissue_Interaction'] = 'liver_v_spleen'\n"
     ]
    }
   ],
   "source": [
    "#Generate Spearman R and P Values for intertissue metabolites for all tissue interaction\n",
    "\n",
    "ps = []\n",
    "SpearmanR = []\n",
    "\n",
    "for x, y, z in zip(metabolites, liver_vals, spleen_vals):\n",
    "    SpearmanR.append(scipy.stats.spearmanr(y, z)[0])\n",
    "    ps.append(scipy.stats.spearmanr(y, z)[1])\n",
    "\n",
    "liver_v_spleen = framer.append(metabolites)\n",
    "liver_v_spleen['SpearmanR'] = SpearmanR\n",
    "liver_v_spleen['p'] = ps\n",
    "liver_v_spleen = liver_v_spleen.sort_values('p')\n",
    "liver_v_spleen_sig = liver_v_spleen[liver_v_spleen['p'] < 0.05]\n",
    "liver_v_spleen_sig['Tissue_Interaction'] = 'liver_v_spleen'"
   ]
  },
  {
   "cell_type": "markdown",
   "metadata": {},
   "source": [
    "lung vs quad"
   ]
  },
  {
   "cell_type": "code",
   "execution_count": 73,
   "metadata": {},
   "outputs": [
    {
     "name": "stderr",
     "output_type": "stream",
     "text": [
      "/var/folders/63/kvjwtxbn1hqfmqdmm3m1gg0r0000gn/T/ipykernel_93964/2824660445.py:15: SettingWithCopyWarning: \n",
      "A value is trying to be set on a copy of a slice from a DataFrame.\n",
      "Try using .loc[row_indexer,col_indexer] = value instead\n",
      "\n",
      "See the caveats in the documentation: https://pandas.pydata.org/pandas-docs/stable/user_guide/indexing.html#returning-a-view-versus-a-copy\n",
      "  lung_v_quad_sig['Tissue_Interaction'] = 'lung_v_quad'\n"
     ]
    }
   ],
   "source": [
    "#Generate Spearman R and P Values for intertissue metabolites for all tissue interaction\n",
    "\n",
    "ps = []\n",
    "SpearmanR = []\n",
    "\n",
    "for x, y, z in zip(metabolites, lung_vals, quad_vals):\n",
    "    SpearmanR.append(scipy.stats.spearmanr(y, z)[0])\n",
    "    ps.append(scipy.stats.spearmanr(y, z)[1])\n",
    "\n",
    "lung_v_quad = framer.append(metabolites)\n",
    "lung_v_quad['SpearmanR'] = SpearmanR\n",
    "lung_v_quad['p'] = ps\n",
    "lung_v_quad = lung_v_quad.sort_values('p')\n",
    "lung_v_quad_sig = lung_v_quad[lung_v_quad['p'] < 0.05]\n",
    "lung_v_quad_sig['Tissue_Interaction'] = 'lung_v_quad'"
   ]
  },
  {
   "cell_type": "markdown",
   "metadata": {},
   "source": [
    "lung vs spleen"
   ]
  },
  {
   "cell_type": "code",
   "execution_count": 74,
   "metadata": {},
   "outputs": [
    {
     "name": "stderr",
     "output_type": "stream",
     "text": [
      "/var/folders/63/kvjwtxbn1hqfmqdmm3m1gg0r0000gn/T/ipykernel_93964/2380173895.py:15: SettingWithCopyWarning: \n",
      "A value is trying to be set on a copy of a slice from a DataFrame.\n",
      "Try using .loc[row_indexer,col_indexer] = value instead\n",
      "\n",
      "See the caveats in the documentation: https://pandas.pydata.org/pandas-docs/stable/user_guide/indexing.html#returning-a-view-versus-a-copy\n",
      "  lung_v_spleen_sig['Tissue_Interaction'] = 'lung_v_spleen'\n"
     ]
    }
   ],
   "source": [
    "#Generate Spearman R and P Values for intertissue metabolites for all tissue interaction\n",
    "\n",
    "ps = []\n",
    "SpearmanR = []\n",
    "\n",
    "for x, y, z in zip(metabolites, lung_vals, spleen_vals):\n",
    "    SpearmanR.append(scipy.stats.spearmanr(y, z)[0])\n",
    "    ps.append(scipy.stats.spearmanr(y, z)[1])\n",
    "\n",
    "lung_v_spleen = framer.append(metabolites)\n",
    "lung_v_spleen['SpearmanR'] = SpearmanR\n",
    "lung_v_spleen['p'] = ps\n",
    "lung_v_spleen = lung_v_spleen.sort_values('p')\n",
    "lung_v_spleen_sig = lung_v_spleen[lung_v_spleen['p'] < 0.05]\n",
    "lung_v_spleen_sig['Tissue_Interaction'] = 'lung_v_spleen'"
   ]
  },
  {
   "cell_type": "markdown",
   "metadata": {},
   "source": [
    "quad vs spleen"
   ]
  },
  {
   "cell_type": "code",
   "execution_count": 75,
   "metadata": {},
   "outputs": [
    {
     "name": "stderr",
     "output_type": "stream",
     "text": [
      "/var/folders/63/kvjwtxbn1hqfmqdmm3m1gg0r0000gn/T/ipykernel_93964/1957829768.py:15: SettingWithCopyWarning: \n",
      "A value is trying to be set on a copy of a slice from a DataFrame.\n",
      "Try using .loc[row_indexer,col_indexer] = value instead\n",
      "\n",
      "See the caveats in the documentation: https://pandas.pydata.org/pandas-docs/stable/user_guide/indexing.html#returning-a-view-versus-a-copy\n",
      "  quad_v_spleen_sig['Tissue_Interaction'] = 'quad_v_spleen'\n"
     ]
    }
   ],
   "source": [
    "#Generate Spearman R and P Values for intertissue metabolites for all tissue interaction\n",
    "\n",
    "ps = []\n",
    "SpearmanR = []\n",
    "\n",
    "for x, y, z in zip(metabolites, quad_vals, spleen_vals):\n",
    "    SpearmanR.append(scipy.stats.spearmanr(y, z)[0])\n",
    "    ps.append(scipy.stats.spearmanr(y, z)[1])\n",
    "\n",
    "quad_v_spleen = framer.append(metabolites)\n",
    "quad_v_spleen['SpearmanR'] = SpearmanR\n",
    "quad_v_spleen['p'] = ps\n",
    "quad_v_spleen = quad_v_spleen.sort_values('p')\n",
    "quad_v_spleen_sig = quad_v_spleen[quad_v_spleen['p'] < 0.05]\n",
    "quad_v_spleen_sig['Tissue_Interaction'] = 'quad_v_spleen'"
   ]
  },
  {
   "cell_type": "code",
   "execution_count": 76,
   "metadata": {},
   "outputs": [
    {
     "data": {
      "text/html": [
       "<div>\n",
       "<style scoped>\n",
       "    .dataframe tbody tr th:only-of-type {\n",
       "        vertical-align: middle;\n",
       "    }\n",
       "\n",
       "    .dataframe tbody tr th {\n",
       "        vertical-align: top;\n",
       "    }\n",
       "\n",
       "    .dataframe thead th {\n",
       "        text-align: right;\n",
       "    }\n",
       "</style>\n",
       "<table border=\"1\" class=\"dataframe\">\n",
       "  <thead>\n",
       "    <tr style=\"text-align: right;\">\n",
       "      <th></th>\n",
       "      <th>0</th>\n",
       "      <th>SpearmanR</th>\n",
       "      <th>p</th>\n",
       "      <th>Tissue_Interaction</th>\n",
       "    </tr>\n",
       "  </thead>\n",
       "  <tbody>\n",
       "    <tr>\n",
       "      <th>46</th>\n",
       "      <td>glycine</td>\n",
       "      <td>0.833333</td>\n",
       "      <td>0.010176</td>\n",
       "      <td>wat_v_heart</td>\n",
       "    </tr>\n",
       "    <tr>\n",
       "      <th>4</th>\n",
       "      <td>3-phosphoglycerate</td>\n",
       "      <td>-0.738095</td>\n",
       "      <td>0.036553</td>\n",
       "      <td>wat_v_heart</td>\n",
       "    </tr>\n",
       "    <tr>\n",
       "      <th>12</th>\n",
       "      <td>Glyceraldehyde-3-phosphate</td>\n",
       "      <td>0.833333</td>\n",
       "      <td>0.010176</td>\n",
       "      <td>wat_v_kidney</td>\n",
       "    </tr>\n",
       "    <tr>\n",
       "      <th>29</th>\n",
       "      <td>valine</td>\n",
       "      <td>0.761905</td>\n",
       "      <td>0.028005</td>\n",
       "      <td>wat_v_kidney</td>\n",
       "    </tr>\n",
       "    <tr>\n",
       "      <th>24</th>\n",
       "      <td>2-keto-isocaproate</td>\n",
       "      <td>0.714286</td>\n",
       "      <td>0.046528</td>\n",
       "      <td>wat_v_kidney</td>\n",
       "    </tr>\n",
       "    <tr>\n",
       "      <th>...</th>\n",
       "      <td>...</td>\n",
       "      <td>...</td>\n",
       "      <td>...</td>\n",
       "      <td>...</td>\n",
       "    </tr>\n",
       "    <tr>\n",
       "      <th>33</th>\n",
       "      <td>S-Adenosylmethionine</td>\n",
       "      <td>0.976190</td>\n",
       "      <td>0.000033</td>\n",
       "      <td>quad_v_spleen</td>\n",
       "    </tr>\n",
       "    <tr>\n",
       "      <th>24</th>\n",
       "      <td>2-keto-isocaproate</td>\n",
       "      <td>0.976190</td>\n",
       "      <td>0.000033</td>\n",
       "      <td>quad_v_spleen</td>\n",
       "    </tr>\n",
       "    <tr>\n",
       "      <th>55</th>\n",
       "      <td>NAD</td>\n",
       "      <td>-0.928571</td>\n",
       "      <td>0.000863</td>\n",
       "      <td>quad_v_spleen</td>\n",
       "    </tr>\n",
       "    <tr>\n",
       "      <th>49</th>\n",
       "      <td>glutathione disulfide (GSSG)</td>\n",
       "      <td>-0.809524</td>\n",
       "      <td>0.014903</td>\n",
       "      <td>quad_v_spleen</td>\n",
       "    </tr>\n",
       "    <tr>\n",
       "      <th>42</th>\n",
       "      <td>tryptophan</td>\n",
       "      <td>0.785714</td>\n",
       "      <td>0.020815</td>\n",
       "      <td>quad_v_spleen</td>\n",
       "    </tr>\n",
       "  </tbody>\n",
       "</table>\n",
       "<p>97 rows × 4 columns</p>\n",
       "</div>"
      ],
      "text/plain": [
       "                               0  SpearmanR         p Tissue_Interaction\n",
       "46                       glycine   0.833333  0.010176        wat_v_heart\n",
       "4             3-phosphoglycerate  -0.738095  0.036553        wat_v_heart\n",
       "12    Glyceraldehyde-3-phosphate   0.833333  0.010176       wat_v_kidney\n",
       "29                        valine   0.761905  0.028005       wat_v_kidney\n",
       "24            2-keto-isocaproate   0.714286  0.046528       wat_v_kidney\n",
       "..                           ...        ...       ...                ...\n",
       "33          S-Adenosylmethionine   0.976190  0.000033      quad_v_spleen\n",
       "24            2-keto-isocaproate   0.976190  0.000033      quad_v_spleen\n",
       "55                           NAD  -0.928571  0.000863      quad_v_spleen\n",
       "49  glutathione disulfide (GSSG)  -0.809524  0.014903      quad_v_spleen\n",
       "42                    tryptophan   0.785714  0.020815      quad_v_spleen\n",
       "\n",
       "[97 rows x 4 columns]"
      ]
     },
     "execution_count": 76,
     "metadata": {},
     "output_type": "execute_result"
    }
   ],
   "source": [
    "masterinteractions_sham = pd.concat([wat_v_heart_sig, wat_v_kidney_sig, wat_v_liver_sig, wat_v_lung_sig, wat_v_quad_sig, wat_v_spleen_sig, heart_v_kidney_sig, heart_v_liver_sig, heart_v_lung_sig, heart_v_quad_sig, heart_v_spleen_sig, kidney_v_liver_sig, kidney_v_lung_sig, kidney_v_quad_sig, kidney_v_spleen_sig, liver_v_lung_sig, liver_v_quad_sig, liver_v_spleen_sig, lung_v_quad_sig, lung_v_spleen_sig, quad_v_spleen_sig])\n",
    "masterinteractions_sham"
   ]
  },
  {
   "cell_type": "code",
   "execution_count": 77,
   "metadata": {},
   "outputs": [],
   "source": [
    "masterinteractions_sham.to_csv('/Users/brooksleitner/Desktop/Python/sepsismetabolism/data/metabolomics/all_tissue_interactions_sham.csv')\n",
    "\n",
    "masterinteractions_CLP.to_csv('/Users/brooksleitner/Desktop/Python/sepsismetabolism/data/metabolomics/all_tissue_interactions_clp.csv')"
   ]
  },
  {
   "cell_type": "code",
   "execution_count": 92,
   "metadata": {},
   "outputs": [
    {
     "data": {
      "image/png": "[encoded data removed]",
      "text/plain": [
       "<Figure size 1080x576 with 1 Axes>"
      ]
     },
     "metadata": {
      "needs_background": "light"
     },
     "output_type": "display_data"
    }
   ],
   "source": [
    "plt.figure(figsize = (15,8))\n",
    "\n",
    "g = sns.countplot(data=masterinteractions_sham, x=0, order = masterinteractions_sham[0].value_counts().index).set(title=\"'Intertissue Connections in Sham Control Mice'\")\n",
    "plt.xticks(rotation=45, horizontalalignment='right')\n",
    "plt.savefig('../figures/metabolomics/sham_intertissue_connections.svg', dpi=300, bbox_inches='tight')"
   ]
  },
  {
   "cell_type": "code",
   "execution_count": 93,
   "metadata": {},
   "outputs": [
    {
     "data": {
      "image/png": "[encoded data removed]",
      "text/plain": [
       "<Figure size 1080x576 with 1 Axes>"
      ]
     },
     "metadata": {
      "needs_background": "light"
     },
     "output_type": "display_data"
    }
   ],
   "source": [
    "plt.figure(figsize = (15,8))\n",
    "\n",
    "g = sns.countplot(data=masterinteractions_CLP, x=0, order = masterinteractions_CLP[0].value_counts().index).set(title=\"'Intertissue Connections in CLP Septic Mice'\")\n",
    "plt.xticks(rotation=45, horizontalalignment='right')\n",
    "plt.savefig('../figures/metabolomics/clp_intertissue_connections.svg', dpi=300, bbox_inches='tight')"
   ]
  },
  {
   "cell_type": "code",
   "execution_count": null,
   "metadata": {},
   "outputs": [],
   "source": []
  }
 ],
 "metadata": {
  "interpreter": {
   "hash": "7e0b1df48ae0120ab319f0bbe2cbf48c64d9ec9ece5a71668ddf7c93dfb898bd"
  },
  "kernelspec": {
   "display_name": "Python 3.9.7 ('sepsismetabolism')",
   "language": "python",
   "name": "python3"
  },
  "language_info": {
   "codemirror_mode": {
    "name": "ipython",
    "version": 3
   },
   "file_extension": ".py",
   "mimetype": "text/x-python",
   "name": "python",
   "nbconvert_exporter": "python",
   "pygments_lexer": "ipython3",
   "version": "3.9.7"
  },
  "orig_nbformat": 4
 },
 "nbformat": 4,
 "nbformat_minor": 2
}
